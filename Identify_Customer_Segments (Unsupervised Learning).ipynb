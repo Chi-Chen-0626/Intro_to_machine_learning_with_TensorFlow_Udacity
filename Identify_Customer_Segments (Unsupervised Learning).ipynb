{
 "cells": [
  {
   "cell_type": "markdown",
   "metadata": {},
   "source": [
    "# Project: Identify Customer Segments\n",
    "\n",
    "In this project, I will apply unsupervised learning techniques to identify segments of the population that form the core customer base for a mail-order sales company in Germany. These segments can then be used to direct marketing campaigns towards audiences that will have the highest expected rate of returns. The data was provided Bertelsmann Arvato Analytics, and represents a real-life data science task."
   ]
  },
  {
   "cell_type": "code",
   "execution_count": 1,
   "metadata": {},
   "outputs": [
    {
     "data": {
      "text/plain": [
       "'\\nImport note: The classroom currently uses sklearn version 0.19.\\nIf you need to use an imputer, it is available in sklearn.preprocessing.Imputer,\\ninstead of sklearn.impute as in newer versions of sklearn.\\n'"
      ]
     },
     "execution_count": 1,
     "metadata": {},
     "output_type": "execute_result"
    }
   ],
   "source": [
    "# import libraries here; add more as necessary\n",
    "import numpy as np\n",
    "import pandas as pd\n",
    "import matplotlib.pyplot as plt\n",
    "import seaborn as sns\n",
    "\n",
    "# magic word for producing visualizations in notebook\n",
    "%matplotlib inline\n",
    "\n",
    "'''\n",
    "Import note: The classroom currently uses sklearn version 0.19.\n",
    "If you need to use an imputer, it is available in sklearn.preprocessing.Imputer,\n",
    "instead of sklearn.impute as in newer versions of sklearn.\n",
    "'''"
   ]
  },
  {
   "cell_type": "markdown",
   "metadata": {},
   "source": [
    "### Step 0: Load the Data\n",
    "\n",
    "There are four files associated with this project (not including this one):\n",
    "\n",
    "- `Udacity_AZDIAS_Subset.csv`: Demographics data for the general population of Germany; 891211 persons (rows) x 85 features (columns).\n",
    "- `Udacity_CUSTOMERS_Subset.csv`: Demographics data for customers of a mail-order company; 191652 persons (rows) x 85 features (columns).\n",
    "- `Data_Dictionary.md`: Detailed information file about the features in the provided datasets.\n",
    "- `AZDIAS_Feature_Summary.csv`: Summary of feature attributes for demographics data; 85 features (rows) x 4 columns\n",
    "\n",
    "Each row of the demographics files represents a single person, but also includes information outside of individuals, including information about their household, building, and neighborhood. I will use this information to cluster the general population into groups with similar demographic properties. Then, I will check how the people in the customers dataset fit into those created clusters. The hope here is that certain clusters are over-represented in the customers data, as compared to the general population; those over-represented clusters will be assumed to be part of the core userbase. This information can then be used for further applications, such as targeting for a marketing campaign."
   ]
  },
  {
   "cell_type": "code",
   "execution_count": 2,
   "metadata": {},
   "outputs": [],
   "source": [
    "# Load in the general demographics data.\n",
    "azdias = pd.read_csv('Udacity_AZDIAS_Subset.csv', sep=';')\n",
    "\n",
    "# Load in the feature summary file.\n",
    "feat_info = pd.read_csv('AZDIAS_Feature_Summary.csv', sep=';')"
   ]
  },
  {
   "cell_type": "code",
   "execution_count": 3,
   "metadata": {},
   "outputs": [
    {
     "name": "stdout",
     "output_type": "stream",
     "text": [
      "number of rows in AZDIAS dataset :891221 \n",
      "number of columns in AZDIAS :85\n",
      "number of rows in Feature Summary :85 \n",
      "number of columns in Feature Summary :4\n"
     ]
    }
   ],
   "source": [
    "# Check the structure of the data after it's loaded (e.g. print the number of\n",
    "# rows and columns, print the first few rows).\n",
    "print(\"number of rows in AZDIAS dataset :{}\".format(azdias.shape[0]),\"\\n\"\n",
    "      \"number of columns in AZDIAS :{}\".format(azdias.shape[1]))\n",
    "\n",
    "print(\"number of rows in Feature Summary :{}\".format(feat_info.shape[0]),\"\\n\"\n",
    "      \"number of columns in Feature Summary :{}\".format(feat_info.shape[1]))\n"
   ]
  },
  {
   "cell_type": "code",
   "execution_count": 4,
   "metadata": {},
   "outputs": [
    {
     "data": {
      "text/html": [
       "<div>\n",
       "<style scoped>\n",
       "    .dataframe tbody tr th:only-of-type {\n",
       "        vertical-align: middle;\n",
       "    }\n",
       "\n",
       "    .dataframe tbody tr th {\n",
       "        vertical-align: top;\n",
       "    }\n",
       "\n",
       "    .dataframe thead th {\n",
       "        text-align: right;\n",
       "    }\n",
       "</style>\n",
       "<table border=\"1\" class=\"dataframe\">\n",
       "  <thead>\n",
       "    <tr style=\"text-align: right;\">\n",
       "      <th></th>\n",
       "      <th>AGER_TYP</th>\n",
       "      <th>ALTERSKATEGORIE_GROB</th>\n",
       "      <th>ANREDE_KZ</th>\n",
       "      <th>CJT_GESAMTTYP</th>\n",
       "      <th>FINANZ_MINIMALIST</th>\n",
       "      <th>FINANZ_SPARER</th>\n",
       "      <th>FINANZ_VORSORGER</th>\n",
       "      <th>FINANZ_ANLEGER</th>\n",
       "      <th>FINANZ_UNAUFFAELLIGER</th>\n",
       "      <th>FINANZ_HAUSBAUER</th>\n",
       "      <th>...</th>\n",
       "      <th>PLZ8_ANTG1</th>\n",
       "      <th>PLZ8_ANTG2</th>\n",
       "      <th>PLZ8_ANTG3</th>\n",
       "      <th>PLZ8_ANTG4</th>\n",
       "      <th>PLZ8_BAUMAX</th>\n",
       "      <th>PLZ8_HHZ</th>\n",
       "      <th>PLZ8_GBZ</th>\n",
       "      <th>ARBEIT</th>\n",
       "      <th>ORTSGR_KLS9</th>\n",
       "      <th>RELAT_AB</th>\n",
       "    </tr>\n",
       "  </thead>\n",
       "  <tbody>\n",
       "    <tr>\n",
       "      <th>0</th>\n",
       "      <td>-1</td>\n",
       "      <td>2</td>\n",
       "      <td>1</td>\n",
       "      <td>2.0</td>\n",
       "      <td>3</td>\n",
       "      <td>4</td>\n",
       "      <td>3</td>\n",
       "      <td>5</td>\n",
       "      <td>5</td>\n",
       "      <td>3</td>\n",
       "      <td>...</td>\n",
       "      <td>NaN</td>\n",
       "      <td>NaN</td>\n",
       "      <td>NaN</td>\n",
       "      <td>NaN</td>\n",
       "      <td>NaN</td>\n",
       "      <td>NaN</td>\n",
       "      <td>NaN</td>\n",
       "      <td>NaN</td>\n",
       "      <td>NaN</td>\n",
       "      <td>NaN</td>\n",
       "    </tr>\n",
       "    <tr>\n",
       "      <th>1</th>\n",
       "      <td>-1</td>\n",
       "      <td>1</td>\n",
       "      <td>2</td>\n",
       "      <td>5.0</td>\n",
       "      <td>1</td>\n",
       "      <td>5</td>\n",
       "      <td>2</td>\n",
       "      <td>5</td>\n",
       "      <td>4</td>\n",
       "      <td>5</td>\n",
       "      <td>...</td>\n",
       "      <td>2.0</td>\n",
       "      <td>3.0</td>\n",
       "      <td>2.0</td>\n",
       "      <td>1.0</td>\n",
       "      <td>1.0</td>\n",
       "      <td>5.0</td>\n",
       "      <td>4.0</td>\n",
       "      <td>3.0</td>\n",
       "      <td>5.0</td>\n",
       "      <td>4.0</td>\n",
       "    </tr>\n",
       "    <tr>\n",
       "      <th>2</th>\n",
       "      <td>-1</td>\n",
       "      <td>3</td>\n",
       "      <td>2</td>\n",
       "      <td>3.0</td>\n",
       "      <td>1</td>\n",
       "      <td>4</td>\n",
       "      <td>1</td>\n",
       "      <td>2</td>\n",
       "      <td>3</td>\n",
       "      <td>5</td>\n",
       "      <td>...</td>\n",
       "      <td>3.0</td>\n",
       "      <td>3.0</td>\n",
       "      <td>1.0</td>\n",
       "      <td>0.0</td>\n",
       "      <td>1.0</td>\n",
       "      <td>4.0</td>\n",
       "      <td>4.0</td>\n",
       "      <td>3.0</td>\n",
       "      <td>5.0</td>\n",
       "      <td>2.0</td>\n",
       "    </tr>\n",
       "    <tr>\n",
       "      <th>3</th>\n",
       "      <td>2</td>\n",
       "      <td>4</td>\n",
       "      <td>2</td>\n",
       "      <td>2.0</td>\n",
       "      <td>4</td>\n",
       "      <td>2</td>\n",
       "      <td>5</td>\n",
       "      <td>2</td>\n",
       "      <td>1</td>\n",
       "      <td>2</td>\n",
       "      <td>...</td>\n",
       "      <td>2.0</td>\n",
       "      <td>2.0</td>\n",
       "      <td>2.0</td>\n",
       "      <td>0.0</td>\n",
       "      <td>1.0</td>\n",
       "      <td>3.0</td>\n",
       "      <td>4.0</td>\n",
       "      <td>2.0</td>\n",
       "      <td>3.0</td>\n",
       "      <td>3.0</td>\n",
       "    </tr>\n",
       "    <tr>\n",
       "      <th>4</th>\n",
       "      <td>-1</td>\n",
       "      <td>3</td>\n",
       "      <td>1</td>\n",
       "      <td>5.0</td>\n",
       "      <td>4</td>\n",
       "      <td>3</td>\n",
       "      <td>4</td>\n",
       "      <td>1</td>\n",
       "      <td>3</td>\n",
       "      <td>2</td>\n",
       "      <td>...</td>\n",
       "      <td>2.0</td>\n",
       "      <td>4.0</td>\n",
       "      <td>2.0</td>\n",
       "      <td>1.0</td>\n",
       "      <td>2.0</td>\n",
       "      <td>3.0</td>\n",
       "      <td>3.0</td>\n",
       "      <td>4.0</td>\n",
       "      <td>6.0</td>\n",
       "      <td>5.0</td>\n",
       "    </tr>\n",
       "    <tr>\n",
       "      <th>5</th>\n",
       "      <td>3</td>\n",
       "      <td>1</td>\n",
       "      <td>2</td>\n",
       "      <td>2.0</td>\n",
       "      <td>3</td>\n",
       "      <td>1</td>\n",
       "      <td>5</td>\n",
       "      <td>2</td>\n",
       "      <td>2</td>\n",
       "      <td>5</td>\n",
       "      <td>...</td>\n",
       "      <td>2.0</td>\n",
       "      <td>3.0</td>\n",
       "      <td>1.0</td>\n",
       "      <td>1.0</td>\n",
       "      <td>1.0</td>\n",
       "      <td>5.0</td>\n",
       "      <td>5.0</td>\n",
       "      <td>2.0</td>\n",
       "      <td>3.0</td>\n",
       "      <td>3.0</td>\n",
       "    </tr>\n",
       "    <tr>\n",
       "      <th>6</th>\n",
       "      <td>-1</td>\n",
       "      <td>2</td>\n",
       "      <td>2</td>\n",
       "      <td>5.0</td>\n",
       "      <td>1</td>\n",
       "      <td>5</td>\n",
       "      <td>1</td>\n",
       "      <td>5</td>\n",
       "      <td>4</td>\n",
       "      <td>3</td>\n",
       "      <td>...</td>\n",
       "      <td>3.0</td>\n",
       "      <td>3.0</td>\n",
       "      <td>1.0</td>\n",
       "      <td>0.0</td>\n",
       "      <td>1.0</td>\n",
       "      <td>5.0</td>\n",
       "      <td>5.0</td>\n",
       "      <td>4.0</td>\n",
       "      <td>6.0</td>\n",
       "      <td>3.0</td>\n",
       "    </tr>\n",
       "    <tr>\n",
       "      <th>7</th>\n",
       "      <td>-1</td>\n",
       "      <td>1</td>\n",
       "      <td>1</td>\n",
       "      <td>3.0</td>\n",
       "      <td>3</td>\n",
       "      <td>3</td>\n",
       "      <td>4</td>\n",
       "      <td>1</td>\n",
       "      <td>3</td>\n",
       "      <td>2</td>\n",
       "      <td>...</td>\n",
       "      <td>3.0</td>\n",
       "      <td>3.0</td>\n",
       "      <td>1.0</td>\n",
       "      <td>0.0</td>\n",
       "      <td>1.0</td>\n",
       "      <td>4.0</td>\n",
       "      <td>4.0</td>\n",
       "      <td>2.0</td>\n",
       "      <td>5.0</td>\n",
       "      <td>2.0</td>\n",
       "    </tr>\n",
       "    <tr>\n",
       "      <th>8</th>\n",
       "      <td>-1</td>\n",
       "      <td>3</td>\n",
       "      <td>1</td>\n",
       "      <td>3.0</td>\n",
       "      <td>4</td>\n",
       "      <td>4</td>\n",
       "      <td>2</td>\n",
       "      <td>4</td>\n",
       "      <td>2</td>\n",
       "      <td>2</td>\n",
       "      <td>...</td>\n",
       "      <td>2.0</td>\n",
       "      <td>3.0</td>\n",
       "      <td>2.0</td>\n",
       "      <td>1.0</td>\n",
       "      <td>1.0</td>\n",
       "      <td>3.0</td>\n",
       "      <td>3.0</td>\n",
       "      <td>2.0</td>\n",
       "      <td>4.0</td>\n",
       "      <td>3.0</td>\n",
       "    </tr>\n",
       "    <tr>\n",
       "      <th>9</th>\n",
       "      <td>-1</td>\n",
       "      <td>3</td>\n",
       "      <td>2</td>\n",
       "      <td>4.0</td>\n",
       "      <td>2</td>\n",
       "      <td>4</td>\n",
       "      <td>2</td>\n",
       "      <td>3</td>\n",
       "      <td>5</td>\n",
       "      <td>4</td>\n",
       "      <td>...</td>\n",
       "      <td>2.0</td>\n",
       "      <td>3.0</td>\n",
       "      <td>2.0</td>\n",
       "      <td>1.0</td>\n",
       "      <td>1.0</td>\n",
       "      <td>3.0</td>\n",
       "      <td>3.0</td>\n",
       "      <td>2.0</td>\n",
       "      <td>3.0</td>\n",
       "      <td>1.0</td>\n",
       "    </tr>\n",
       "  </tbody>\n",
       "</table>\n",
       "<p>10 rows × 85 columns</p>\n",
       "</div>"
      ],
      "text/plain": [
       "   AGER_TYP  ALTERSKATEGORIE_GROB  ANREDE_KZ  CJT_GESAMTTYP  \\\n",
       "0        -1                     2          1            2.0   \n",
       "1        -1                     1          2            5.0   \n",
       "2        -1                     3          2            3.0   \n",
       "3         2                     4          2            2.0   \n",
       "4        -1                     3          1            5.0   \n",
       "5         3                     1          2            2.0   \n",
       "6        -1                     2          2            5.0   \n",
       "7        -1                     1          1            3.0   \n",
       "8        -1                     3          1            3.0   \n",
       "9        -1                     3          2            4.0   \n",
       "\n",
       "   FINANZ_MINIMALIST  FINANZ_SPARER  FINANZ_VORSORGER  FINANZ_ANLEGER  \\\n",
       "0                  3              4                 3               5   \n",
       "1                  1              5                 2               5   \n",
       "2                  1              4                 1               2   \n",
       "3                  4              2                 5               2   \n",
       "4                  4              3                 4               1   \n",
       "5                  3              1                 5               2   \n",
       "6                  1              5                 1               5   \n",
       "7                  3              3                 4               1   \n",
       "8                  4              4                 2               4   \n",
       "9                  2              4                 2               3   \n",
       "\n",
       "   FINANZ_UNAUFFAELLIGER  FINANZ_HAUSBAUER    ...     PLZ8_ANTG1  PLZ8_ANTG2  \\\n",
       "0                      5                 3    ...            NaN         NaN   \n",
       "1                      4                 5    ...            2.0         3.0   \n",
       "2                      3                 5    ...            3.0         3.0   \n",
       "3                      1                 2    ...            2.0         2.0   \n",
       "4                      3                 2    ...            2.0         4.0   \n",
       "5                      2                 5    ...            2.0         3.0   \n",
       "6                      4                 3    ...            3.0         3.0   \n",
       "7                      3                 2    ...            3.0         3.0   \n",
       "8                      2                 2    ...            2.0         3.0   \n",
       "9                      5                 4    ...            2.0         3.0   \n",
       "\n",
       "   PLZ8_ANTG3  PLZ8_ANTG4  PLZ8_BAUMAX  PLZ8_HHZ  PLZ8_GBZ  ARBEIT  \\\n",
       "0         NaN         NaN          NaN       NaN       NaN     NaN   \n",
       "1         2.0         1.0          1.0       5.0       4.0     3.0   \n",
       "2         1.0         0.0          1.0       4.0       4.0     3.0   \n",
       "3         2.0         0.0          1.0       3.0       4.0     2.0   \n",
       "4         2.0         1.0          2.0       3.0       3.0     4.0   \n",
       "5         1.0         1.0          1.0       5.0       5.0     2.0   \n",
       "6         1.0         0.0          1.0       5.0       5.0     4.0   \n",
       "7         1.0         0.0          1.0       4.0       4.0     2.0   \n",
       "8         2.0         1.0          1.0       3.0       3.0     2.0   \n",
       "9         2.0         1.0          1.0       3.0       3.0     2.0   \n",
       "\n",
       "   ORTSGR_KLS9  RELAT_AB  \n",
       "0          NaN       NaN  \n",
       "1          5.0       4.0  \n",
       "2          5.0       2.0  \n",
       "3          3.0       3.0  \n",
       "4          6.0       5.0  \n",
       "5          3.0       3.0  \n",
       "6          6.0       3.0  \n",
       "7          5.0       2.0  \n",
       "8          4.0       3.0  \n",
       "9          3.0       1.0  \n",
       "\n",
       "[10 rows x 85 columns]"
      ]
     },
     "execution_count": 4,
     "metadata": {},
     "output_type": "execute_result"
    }
   ],
   "source": [
    "azdias.head(10)"
   ]
  },
  {
   "cell_type": "code",
   "execution_count": 5,
   "metadata": {},
   "outputs": [
    {
     "data": {
      "text/html": [
       "<div>\n",
       "<style scoped>\n",
       "    .dataframe tbody tr th:only-of-type {\n",
       "        vertical-align: middle;\n",
       "    }\n",
       "\n",
       "    .dataframe tbody tr th {\n",
       "        vertical-align: top;\n",
       "    }\n",
       "\n",
       "    .dataframe thead th {\n",
       "        text-align: right;\n",
       "    }\n",
       "</style>\n",
       "<table border=\"1\" class=\"dataframe\">\n",
       "  <thead>\n",
       "    <tr style=\"text-align: right;\">\n",
       "      <th></th>\n",
       "      <th>attribute</th>\n",
       "      <th>information_level</th>\n",
       "      <th>type</th>\n",
       "      <th>missing_or_unknown</th>\n",
       "    </tr>\n",
       "  </thead>\n",
       "  <tbody>\n",
       "    <tr>\n",
       "      <th>0</th>\n",
       "      <td>AGER_TYP</td>\n",
       "      <td>person</td>\n",
       "      <td>categorical</td>\n",
       "      <td>[-1,0]</td>\n",
       "    </tr>\n",
       "    <tr>\n",
       "      <th>1</th>\n",
       "      <td>ALTERSKATEGORIE_GROB</td>\n",
       "      <td>person</td>\n",
       "      <td>ordinal</td>\n",
       "      <td>[-1,0,9]</td>\n",
       "    </tr>\n",
       "    <tr>\n",
       "      <th>2</th>\n",
       "      <td>ANREDE_KZ</td>\n",
       "      <td>person</td>\n",
       "      <td>categorical</td>\n",
       "      <td>[-1,0]</td>\n",
       "    </tr>\n",
       "    <tr>\n",
       "      <th>3</th>\n",
       "      <td>CJT_GESAMTTYP</td>\n",
       "      <td>person</td>\n",
       "      <td>categorical</td>\n",
       "      <td>[0]</td>\n",
       "    </tr>\n",
       "    <tr>\n",
       "      <th>4</th>\n",
       "      <td>FINANZ_MINIMALIST</td>\n",
       "      <td>person</td>\n",
       "      <td>ordinal</td>\n",
       "      <td>[-1]</td>\n",
       "    </tr>\n",
       "  </tbody>\n",
       "</table>\n",
       "</div>"
      ],
      "text/plain": [
       "              attribute information_level         type missing_or_unknown\n",
       "0              AGER_TYP            person  categorical             [-1,0]\n",
       "1  ALTERSKATEGORIE_GROB            person      ordinal           [-1,0,9]\n",
       "2             ANREDE_KZ            person  categorical             [-1,0]\n",
       "3         CJT_GESAMTTYP            person  categorical                [0]\n",
       "4     FINANZ_MINIMALIST            person      ordinal               [-1]"
      ]
     },
     "execution_count": 5,
     "metadata": {},
     "output_type": "execute_result"
    }
   ],
   "source": [
    "feat_info.head()"
   ]
  },
  {
   "cell_type": "code",
   "execution_count": 6,
   "metadata": {},
   "outputs": [
    {
     "data": {
      "text/html": [
       "<div>\n",
       "<style scoped>\n",
       "    .dataframe tbody tr th:only-of-type {\n",
       "        vertical-align: middle;\n",
       "    }\n",
       "\n",
       "    .dataframe tbody tr th {\n",
       "        vertical-align: top;\n",
       "    }\n",
       "\n",
       "    .dataframe thead th {\n",
       "        text-align: right;\n",
       "    }\n",
       "</style>\n",
       "<table border=\"1\" class=\"dataframe\">\n",
       "  <thead>\n",
       "    <tr style=\"text-align: right;\">\n",
       "      <th></th>\n",
       "      <th>AGER_TYP</th>\n",
       "      <th>ALTERSKATEGORIE_GROB</th>\n",
       "      <th>ANREDE_KZ</th>\n",
       "      <th>CJT_GESAMTTYP</th>\n",
       "      <th>FINANZ_MINIMALIST</th>\n",
       "      <th>FINANZ_SPARER</th>\n",
       "      <th>FINANZ_VORSORGER</th>\n",
       "      <th>FINANZ_ANLEGER</th>\n",
       "      <th>FINANZ_UNAUFFAELLIGER</th>\n",
       "      <th>FINANZ_HAUSBAUER</th>\n",
       "      <th>...</th>\n",
       "      <th>PLZ8_ANTG1</th>\n",
       "      <th>PLZ8_ANTG2</th>\n",
       "      <th>PLZ8_ANTG3</th>\n",
       "      <th>PLZ8_ANTG4</th>\n",
       "      <th>PLZ8_BAUMAX</th>\n",
       "      <th>PLZ8_HHZ</th>\n",
       "      <th>PLZ8_GBZ</th>\n",
       "      <th>ARBEIT</th>\n",
       "      <th>ORTSGR_KLS9</th>\n",
       "      <th>RELAT_AB</th>\n",
       "    </tr>\n",
       "  </thead>\n",
       "  <tbody>\n",
       "    <tr>\n",
       "      <th>count</th>\n",
       "      <td>891221.000000</td>\n",
       "      <td>891221.000000</td>\n",
       "      <td>891221.000000</td>\n",
       "      <td>886367.000000</td>\n",
       "      <td>891221.000000</td>\n",
       "      <td>891221.000000</td>\n",
       "      <td>891221.000000</td>\n",
       "      <td>891221.000000</td>\n",
       "      <td>891221.000000</td>\n",
       "      <td>891221.000000</td>\n",
       "      <td>...</td>\n",
       "      <td>774706.000000</td>\n",
       "      <td>774706.000000</td>\n",
       "      <td>774706.000000</td>\n",
       "      <td>774706.000000</td>\n",
       "      <td>774706.000000</td>\n",
       "      <td>774706.000000</td>\n",
       "      <td>774706.000000</td>\n",
       "      <td>794005.000000</td>\n",
       "      <td>794005.000000</td>\n",
       "      <td>794005.00000</td>\n",
       "    </tr>\n",
       "    <tr>\n",
       "      <th>mean</th>\n",
       "      <td>-0.358435</td>\n",
       "      <td>2.777398</td>\n",
       "      <td>1.522098</td>\n",
       "      <td>3.632838</td>\n",
       "      <td>3.074528</td>\n",
       "      <td>2.821039</td>\n",
       "      <td>3.401106</td>\n",
       "      <td>3.033328</td>\n",
       "      <td>2.874167</td>\n",
       "      <td>3.075121</td>\n",
       "      <td>...</td>\n",
       "      <td>2.253330</td>\n",
       "      <td>2.801858</td>\n",
       "      <td>1.595426</td>\n",
       "      <td>0.699166</td>\n",
       "      <td>1.943913</td>\n",
       "      <td>3.612821</td>\n",
       "      <td>3.381087</td>\n",
       "      <td>3.167854</td>\n",
       "      <td>5.293002</td>\n",
       "      <td>3.07222</td>\n",
       "    </tr>\n",
       "    <tr>\n",
       "      <th>std</th>\n",
       "      <td>1.198724</td>\n",
       "      <td>1.068775</td>\n",
       "      <td>0.499512</td>\n",
       "      <td>1.595021</td>\n",
       "      <td>1.321055</td>\n",
       "      <td>1.464749</td>\n",
       "      <td>1.322134</td>\n",
       "      <td>1.529603</td>\n",
       "      <td>1.486731</td>\n",
       "      <td>1.353248</td>\n",
       "      <td>...</td>\n",
       "      <td>0.972008</td>\n",
       "      <td>0.920309</td>\n",
       "      <td>0.986736</td>\n",
       "      <td>0.727137</td>\n",
       "      <td>1.459654</td>\n",
       "      <td>0.973967</td>\n",
       "      <td>1.111598</td>\n",
       "      <td>1.002376</td>\n",
       "      <td>2.303739</td>\n",
       "      <td>1.36298</td>\n",
       "    </tr>\n",
       "    <tr>\n",
       "      <th>min</th>\n",
       "      <td>-1.000000</td>\n",
       "      <td>1.000000</td>\n",
       "      <td>1.000000</td>\n",
       "      <td>1.000000</td>\n",
       "      <td>1.000000</td>\n",
       "      <td>1.000000</td>\n",
       "      <td>1.000000</td>\n",
       "      <td>1.000000</td>\n",
       "      <td>1.000000</td>\n",
       "      <td>1.000000</td>\n",
       "      <td>...</td>\n",
       "      <td>0.000000</td>\n",
       "      <td>0.000000</td>\n",
       "      <td>0.000000</td>\n",
       "      <td>0.000000</td>\n",
       "      <td>1.000000</td>\n",
       "      <td>1.000000</td>\n",
       "      <td>1.000000</td>\n",
       "      <td>1.000000</td>\n",
       "      <td>0.000000</td>\n",
       "      <td>1.00000</td>\n",
       "    </tr>\n",
       "    <tr>\n",
       "      <th>25%</th>\n",
       "      <td>-1.000000</td>\n",
       "      <td>2.000000</td>\n",
       "      <td>1.000000</td>\n",
       "      <td>2.000000</td>\n",
       "      <td>2.000000</td>\n",
       "      <td>1.000000</td>\n",
       "      <td>3.000000</td>\n",
       "      <td>2.000000</td>\n",
       "      <td>2.000000</td>\n",
       "      <td>2.000000</td>\n",
       "      <td>...</td>\n",
       "      <td>1.000000</td>\n",
       "      <td>2.000000</td>\n",
       "      <td>1.000000</td>\n",
       "      <td>0.000000</td>\n",
       "      <td>1.000000</td>\n",
       "      <td>3.000000</td>\n",
       "      <td>3.000000</td>\n",
       "      <td>3.000000</td>\n",
       "      <td>4.000000</td>\n",
       "      <td>2.00000</td>\n",
       "    </tr>\n",
       "    <tr>\n",
       "      <th>50%</th>\n",
       "      <td>-1.000000</td>\n",
       "      <td>3.000000</td>\n",
       "      <td>2.000000</td>\n",
       "      <td>4.000000</td>\n",
       "      <td>3.000000</td>\n",
       "      <td>3.000000</td>\n",
       "      <td>3.000000</td>\n",
       "      <td>3.000000</td>\n",
       "      <td>3.000000</td>\n",
       "      <td>3.000000</td>\n",
       "      <td>...</td>\n",
       "      <td>2.000000</td>\n",
       "      <td>3.000000</td>\n",
       "      <td>2.000000</td>\n",
       "      <td>1.000000</td>\n",
       "      <td>1.000000</td>\n",
       "      <td>4.000000</td>\n",
       "      <td>3.000000</td>\n",
       "      <td>3.000000</td>\n",
       "      <td>5.000000</td>\n",
       "      <td>3.00000</td>\n",
       "    </tr>\n",
       "    <tr>\n",
       "      <th>75%</th>\n",
       "      <td>-1.000000</td>\n",
       "      <td>4.000000</td>\n",
       "      <td>2.000000</td>\n",
       "      <td>5.000000</td>\n",
       "      <td>4.000000</td>\n",
       "      <td>4.000000</td>\n",
       "      <td>5.000000</td>\n",
       "      <td>5.000000</td>\n",
       "      <td>4.000000</td>\n",
       "      <td>4.000000</td>\n",
       "      <td>...</td>\n",
       "      <td>3.000000</td>\n",
       "      <td>3.000000</td>\n",
       "      <td>2.000000</td>\n",
       "      <td>1.000000</td>\n",
       "      <td>3.000000</td>\n",
       "      <td>4.000000</td>\n",
       "      <td>4.000000</td>\n",
       "      <td>4.000000</td>\n",
       "      <td>7.000000</td>\n",
       "      <td>4.00000</td>\n",
       "    </tr>\n",
       "    <tr>\n",
       "      <th>max</th>\n",
       "      <td>3.000000</td>\n",
       "      <td>9.000000</td>\n",
       "      <td>2.000000</td>\n",
       "      <td>6.000000</td>\n",
       "      <td>5.000000</td>\n",
       "      <td>5.000000</td>\n",
       "      <td>5.000000</td>\n",
       "      <td>5.000000</td>\n",
       "      <td>5.000000</td>\n",
       "      <td>5.000000</td>\n",
       "      <td>...</td>\n",
       "      <td>4.000000</td>\n",
       "      <td>4.000000</td>\n",
       "      <td>3.000000</td>\n",
       "      <td>2.000000</td>\n",
       "      <td>5.000000</td>\n",
       "      <td>5.000000</td>\n",
       "      <td>5.000000</td>\n",
       "      <td>9.000000</td>\n",
       "      <td>9.000000</td>\n",
       "      <td>9.00000</td>\n",
       "    </tr>\n",
       "  </tbody>\n",
       "</table>\n",
       "<p>8 rows × 81 columns</p>\n",
       "</div>"
      ],
      "text/plain": [
       "            AGER_TYP  ALTERSKATEGORIE_GROB      ANREDE_KZ  CJT_GESAMTTYP  \\\n",
       "count  891221.000000         891221.000000  891221.000000  886367.000000   \n",
       "mean       -0.358435              2.777398       1.522098       3.632838   \n",
       "std         1.198724              1.068775       0.499512       1.595021   \n",
       "min        -1.000000              1.000000       1.000000       1.000000   \n",
       "25%        -1.000000              2.000000       1.000000       2.000000   \n",
       "50%        -1.000000              3.000000       2.000000       4.000000   \n",
       "75%        -1.000000              4.000000       2.000000       5.000000   \n",
       "max         3.000000              9.000000       2.000000       6.000000   \n",
       "\n",
       "       FINANZ_MINIMALIST  FINANZ_SPARER  FINANZ_VORSORGER  FINANZ_ANLEGER  \\\n",
       "count      891221.000000  891221.000000     891221.000000   891221.000000   \n",
       "mean            3.074528       2.821039          3.401106        3.033328   \n",
       "std             1.321055       1.464749          1.322134        1.529603   \n",
       "min             1.000000       1.000000          1.000000        1.000000   \n",
       "25%             2.000000       1.000000          3.000000        2.000000   \n",
       "50%             3.000000       3.000000          3.000000        3.000000   \n",
       "75%             4.000000       4.000000          5.000000        5.000000   \n",
       "max             5.000000       5.000000          5.000000        5.000000   \n",
       "\n",
       "       FINANZ_UNAUFFAELLIGER  FINANZ_HAUSBAUER      ...          PLZ8_ANTG1  \\\n",
       "count          891221.000000     891221.000000      ...       774706.000000   \n",
       "mean                2.874167          3.075121      ...            2.253330   \n",
       "std                 1.486731          1.353248      ...            0.972008   \n",
       "min                 1.000000          1.000000      ...            0.000000   \n",
       "25%                 2.000000          2.000000      ...            1.000000   \n",
       "50%                 3.000000          3.000000      ...            2.000000   \n",
       "75%                 4.000000          4.000000      ...            3.000000   \n",
       "max                 5.000000          5.000000      ...            4.000000   \n",
       "\n",
       "          PLZ8_ANTG2     PLZ8_ANTG3     PLZ8_ANTG4    PLZ8_BAUMAX  \\\n",
       "count  774706.000000  774706.000000  774706.000000  774706.000000   \n",
       "mean        2.801858       1.595426       0.699166       1.943913   \n",
       "std         0.920309       0.986736       0.727137       1.459654   \n",
       "min         0.000000       0.000000       0.000000       1.000000   \n",
       "25%         2.000000       1.000000       0.000000       1.000000   \n",
       "50%         3.000000       2.000000       1.000000       1.000000   \n",
       "75%         3.000000       2.000000       1.000000       3.000000   \n",
       "max         4.000000       3.000000       2.000000       5.000000   \n",
       "\n",
       "            PLZ8_HHZ       PLZ8_GBZ         ARBEIT    ORTSGR_KLS9  \\\n",
       "count  774706.000000  774706.000000  794005.000000  794005.000000   \n",
       "mean        3.612821       3.381087       3.167854       5.293002   \n",
       "std         0.973967       1.111598       1.002376       2.303739   \n",
       "min         1.000000       1.000000       1.000000       0.000000   \n",
       "25%         3.000000       3.000000       3.000000       4.000000   \n",
       "50%         4.000000       3.000000       3.000000       5.000000   \n",
       "75%         4.000000       4.000000       4.000000       7.000000   \n",
       "max         5.000000       5.000000       9.000000       9.000000   \n",
       "\n",
       "           RELAT_AB  \n",
       "count  794005.00000  \n",
       "mean        3.07222  \n",
       "std         1.36298  \n",
       "min         1.00000  \n",
       "25%         2.00000  \n",
       "50%         3.00000  \n",
       "75%         4.00000  \n",
       "max         9.00000  \n",
       "\n",
       "[8 rows x 81 columns]"
      ]
     },
     "execution_count": 6,
     "metadata": {},
     "output_type": "execute_result"
    }
   ],
   "source": [
    "azdias.describe()"
   ]
  },
  {
   "cell_type": "markdown",
   "metadata": {},
   "source": [
    "## Step 1: Preprocessing\n",
    "\n",
    "### Step 1.1: Assess Missing Data\n",
    "\n",
    "The feature summary file contains a summary of properties for each demographics data column. I will use this file to help making cleaning decisions during this stage of the project. First of all, I will assess the demographics data in terms of missing data.\n",
    "\n",
    "#### Step 1.1.1: Convert Missing Value Codes to NaNs\n",
    "The fourth column of the feature attributes summary (loaded in above as `feat_info`) documents the codes from the data dictionary that indicate missing or unknown data. Convert data that matches a 'missing' or 'unknown' value code into a numpy NaN value. "
   ]
  },
  {
   "cell_type": "code",
   "execution_count": 7,
   "metadata": {},
   "outputs": [
    {
     "name": "stdout",
     "output_type": "stream",
     "text": [
      "number of data points is naturally missing :4896838\n"
     ]
    }
   ],
   "source": [
    "num_nat_missing = azdias.isnull().sum().sum()\n",
    "print(\"number of data points is naturally missing :{}\".format(num_nat_missing))"
   ]
  },
  {
   "cell_type": "code",
   "execution_count": 8,
   "metadata": {},
   "outputs": [],
   "source": [
    "# Identify missing or unknown data values and convert them to NaNs.\n",
    "for fi in range(azdias.shape[1]):\n",
    "    missing_list = feat_info['missing_or_unknown'][fi][1:-1].split(',')\n",
    "    if feat_info['missing_or_unknown'][fi] != '[]': # if missing value list is not empty\n",
    "        for missing_val in missing_list:\n",
    "            if missing_val.isnumeric() or missing_val.lstrip('-').isnumeric():\n",
    "                missing_val = int(missing_val)\n",
    "            azdias[feat_info['attribute'][fi]] = azdias[feat_info['attribute'][fi]].replace(missing_val, np.nan)\n",
    "            "
   ]
  },
  {
   "cell_type": "code",
   "execution_count": 9,
   "metadata": {
    "scrolled": true
   },
   "outputs": [
    {
     "data": {
      "text/html": [
       "<div>\n",
       "<style scoped>\n",
       "    .dataframe tbody tr th:only-of-type {\n",
       "        vertical-align: middle;\n",
       "    }\n",
       "\n",
       "    .dataframe tbody tr th {\n",
       "        vertical-align: top;\n",
       "    }\n",
       "\n",
       "    .dataframe thead th {\n",
       "        text-align: right;\n",
       "    }\n",
       "</style>\n",
       "<table border=\"1\" class=\"dataframe\">\n",
       "  <thead>\n",
       "    <tr style=\"text-align: right;\">\n",
       "      <th></th>\n",
       "      <th>AGER_TYP</th>\n",
       "      <th>ALTERSKATEGORIE_GROB</th>\n",
       "      <th>ANREDE_KZ</th>\n",
       "      <th>CJT_GESAMTTYP</th>\n",
       "      <th>FINANZ_MINIMALIST</th>\n",
       "      <th>FINANZ_SPARER</th>\n",
       "      <th>FINANZ_VORSORGER</th>\n",
       "      <th>FINANZ_ANLEGER</th>\n",
       "      <th>FINANZ_UNAUFFAELLIGER</th>\n",
       "      <th>FINANZ_HAUSBAUER</th>\n",
       "      <th>...</th>\n",
       "      <th>PLZ8_ANTG1</th>\n",
       "      <th>PLZ8_ANTG2</th>\n",
       "      <th>PLZ8_ANTG3</th>\n",
       "      <th>PLZ8_ANTG4</th>\n",
       "      <th>PLZ8_BAUMAX</th>\n",
       "      <th>PLZ8_HHZ</th>\n",
       "      <th>PLZ8_GBZ</th>\n",
       "      <th>ARBEIT</th>\n",
       "      <th>ORTSGR_KLS9</th>\n",
       "      <th>RELAT_AB</th>\n",
       "    </tr>\n",
       "  </thead>\n",
       "  <tbody>\n",
       "    <tr>\n",
       "      <th>0</th>\n",
       "      <td>NaN</td>\n",
       "      <td>2.0</td>\n",
       "      <td>1</td>\n",
       "      <td>2.0</td>\n",
       "      <td>3</td>\n",
       "      <td>4</td>\n",
       "      <td>3</td>\n",
       "      <td>5</td>\n",
       "      <td>5</td>\n",
       "      <td>3</td>\n",
       "      <td>...</td>\n",
       "      <td>NaN</td>\n",
       "      <td>NaN</td>\n",
       "      <td>NaN</td>\n",
       "      <td>NaN</td>\n",
       "      <td>NaN</td>\n",
       "      <td>NaN</td>\n",
       "      <td>NaN</td>\n",
       "      <td>NaN</td>\n",
       "      <td>NaN</td>\n",
       "      <td>NaN</td>\n",
       "    </tr>\n",
       "    <tr>\n",
       "      <th>1</th>\n",
       "      <td>NaN</td>\n",
       "      <td>1.0</td>\n",
       "      <td>2</td>\n",
       "      <td>5.0</td>\n",
       "      <td>1</td>\n",
       "      <td>5</td>\n",
       "      <td>2</td>\n",
       "      <td>5</td>\n",
       "      <td>4</td>\n",
       "      <td>5</td>\n",
       "      <td>...</td>\n",
       "      <td>2.0</td>\n",
       "      <td>3.0</td>\n",
       "      <td>2.0</td>\n",
       "      <td>1.0</td>\n",
       "      <td>1.0</td>\n",
       "      <td>5.0</td>\n",
       "      <td>4.0</td>\n",
       "      <td>3.0</td>\n",
       "      <td>5.0</td>\n",
       "      <td>4.0</td>\n",
       "    </tr>\n",
       "    <tr>\n",
       "      <th>2</th>\n",
       "      <td>NaN</td>\n",
       "      <td>3.0</td>\n",
       "      <td>2</td>\n",
       "      <td>3.0</td>\n",
       "      <td>1</td>\n",
       "      <td>4</td>\n",
       "      <td>1</td>\n",
       "      <td>2</td>\n",
       "      <td>3</td>\n",
       "      <td>5</td>\n",
       "      <td>...</td>\n",
       "      <td>3.0</td>\n",
       "      <td>3.0</td>\n",
       "      <td>1.0</td>\n",
       "      <td>0.0</td>\n",
       "      <td>1.0</td>\n",
       "      <td>4.0</td>\n",
       "      <td>4.0</td>\n",
       "      <td>3.0</td>\n",
       "      <td>5.0</td>\n",
       "      <td>2.0</td>\n",
       "    </tr>\n",
       "    <tr>\n",
       "      <th>3</th>\n",
       "      <td>2.0</td>\n",
       "      <td>4.0</td>\n",
       "      <td>2</td>\n",
       "      <td>2.0</td>\n",
       "      <td>4</td>\n",
       "      <td>2</td>\n",
       "      <td>5</td>\n",
       "      <td>2</td>\n",
       "      <td>1</td>\n",
       "      <td>2</td>\n",
       "      <td>...</td>\n",
       "      <td>2.0</td>\n",
       "      <td>2.0</td>\n",
       "      <td>2.0</td>\n",
       "      <td>0.0</td>\n",
       "      <td>1.0</td>\n",
       "      <td>3.0</td>\n",
       "      <td>4.0</td>\n",
       "      <td>2.0</td>\n",
       "      <td>3.0</td>\n",
       "      <td>3.0</td>\n",
       "    </tr>\n",
       "    <tr>\n",
       "      <th>4</th>\n",
       "      <td>NaN</td>\n",
       "      <td>3.0</td>\n",
       "      <td>1</td>\n",
       "      <td>5.0</td>\n",
       "      <td>4</td>\n",
       "      <td>3</td>\n",
       "      <td>4</td>\n",
       "      <td>1</td>\n",
       "      <td>3</td>\n",
       "      <td>2</td>\n",
       "      <td>...</td>\n",
       "      <td>2.0</td>\n",
       "      <td>4.0</td>\n",
       "      <td>2.0</td>\n",
       "      <td>1.0</td>\n",
       "      <td>2.0</td>\n",
       "      <td>3.0</td>\n",
       "      <td>3.0</td>\n",
       "      <td>4.0</td>\n",
       "      <td>6.0</td>\n",
       "      <td>5.0</td>\n",
       "    </tr>\n",
       "    <tr>\n",
       "      <th>5</th>\n",
       "      <td>3.0</td>\n",
       "      <td>1.0</td>\n",
       "      <td>2</td>\n",
       "      <td>2.0</td>\n",
       "      <td>3</td>\n",
       "      <td>1</td>\n",
       "      <td>5</td>\n",
       "      <td>2</td>\n",
       "      <td>2</td>\n",
       "      <td>5</td>\n",
       "      <td>...</td>\n",
       "      <td>2.0</td>\n",
       "      <td>3.0</td>\n",
       "      <td>1.0</td>\n",
       "      <td>1.0</td>\n",
       "      <td>1.0</td>\n",
       "      <td>5.0</td>\n",
       "      <td>5.0</td>\n",
       "      <td>2.0</td>\n",
       "      <td>3.0</td>\n",
       "      <td>3.0</td>\n",
       "    </tr>\n",
       "    <tr>\n",
       "      <th>6</th>\n",
       "      <td>NaN</td>\n",
       "      <td>2.0</td>\n",
       "      <td>2</td>\n",
       "      <td>5.0</td>\n",
       "      <td>1</td>\n",
       "      <td>5</td>\n",
       "      <td>1</td>\n",
       "      <td>5</td>\n",
       "      <td>4</td>\n",
       "      <td>3</td>\n",
       "      <td>...</td>\n",
       "      <td>3.0</td>\n",
       "      <td>3.0</td>\n",
       "      <td>1.0</td>\n",
       "      <td>0.0</td>\n",
       "      <td>1.0</td>\n",
       "      <td>5.0</td>\n",
       "      <td>5.0</td>\n",
       "      <td>4.0</td>\n",
       "      <td>6.0</td>\n",
       "      <td>3.0</td>\n",
       "    </tr>\n",
       "    <tr>\n",
       "      <th>7</th>\n",
       "      <td>NaN</td>\n",
       "      <td>1.0</td>\n",
       "      <td>1</td>\n",
       "      <td>3.0</td>\n",
       "      <td>3</td>\n",
       "      <td>3</td>\n",
       "      <td>4</td>\n",
       "      <td>1</td>\n",
       "      <td>3</td>\n",
       "      <td>2</td>\n",
       "      <td>...</td>\n",
       "      <td>3.0</td>\n",
       "      <td>3.0</td>\n",
       "      <td>1.0</td>\n",
       "      <td>0.0</td>\n",
       "      <td>1.0</td>\n",
       "      <td>4.0</td>\n",
       "      <td>4.0</td>\n",
       "      <td>2.0</td>\n",
       "      <td>5.0</td>\n",
       "      <td>2.0</td>\n",
       "    </tr>\n",
       "    <tr>\n",
       "      <th>8</th>\n",
       "      <td>NaN</td>\n",
       "      <td>3.0</td>\n",
       "      <td>1</td>\n",
       "      <td>3.0</td>\n",
       "      <td>4</td>\n",
       "      <td>4</td>\n",
       "      <td>2</td>\n",
       "      <td>4</td>\n",
       "      <td>2</td>\n",
       "      <td>2</td>\n",
       "      <td>...</td>\n",
       "      <td>2.0</td>\n",
       "      <td>3.0</td>\n",
       "      <td>2.0</td>\n",
       "      <td>1.0</td>\n",
       "      <td>1.0</td>\n",
       "      <td>3.0</td>\n",
       "      <td>3.0</td>\n",
       "      <td>2.0</td>\n",
       "      <td>4.0</td>\n",
       "      <td>3.0</td>\n",
       "    </tr>\n",
       "    <tr>\n",
       "      <th>9</th>\n",
       "      <td>NaN</td>\n",
       "      <td>3.0</td>\n",
       "      <td>2</td>\n",
       "      <td>4.0</td>\n",
       "      <td>2</td>\n",
       "      <td>4</td>\n",
       "      <td>2</td>\n",
       "      <td>3</td>\n",
       "      <td>5</td>\n",
       "      <td>4</td>\n",
       "      <td>...</td>\n",
       "      <td>2.0</td>\n",
       "      <td>3.0</td>\n",
       "      <td>2.0</td>\n",
       "      <td>1.0</td>\n",
       "      <td>1.0</td>\n",
       "      <td>3.0</td>\n",
       "      <td>3.0</td>\n",
       "      <td>2.0</td>\n",
       "      <td>3.0</td>\n",
       "      <td>1.0</td>\n",
       "    </tr>\n",
       "  </tbody>\n",
       "</table>\n",
       "<p>10 rows × 85 columns</p>\n",
       "</div>"
      ],
      "text/plain": [
       "   AGER_TYP  ALTERSKATEGORIE_GROB  ANREDE_KZ  CJT_GESAMTTYP  \\\n",
       "0       NaN                   2.0          1            2.0   \n",
       "1       NaN                   1.0          2            5.0   \n",
       "2       NaN                   3.0          2            3.0   \n",
       "3       2.0                   4.0          2            2.0   \n",
       "4       NaN                   3.0          1            5.0   \n",
       "5       3.0                   1.0          2            2.0   \n",
       "6       NaN                   2.0          2            5.0   \n",
       "7       NaN                   1.0          1            3.0   \n",
       "8       NaN                   3.0          1            3.0   \n",
       "9       NaN                   3.0          2            4.0   \n",
       "\n",
       "   FINANZ_MINIMALIST  FINANZ_SPARER  FINANZ_VORSORGER  FINANZ_ANLEGER  \\\n",
       "0                  3              4                 3               5   \n",
       "1                  1              5                 2               5   \n",
       "2                  1              4                 1               2   \n",
       "3                  4              2                 5               2   \n",
       "4                  4              3                 4               1   \n",
       "5                  3              1                 5               2   \n",
       "6                  1              5                 1               5   \n",
       "7                  3              3                 4               1   \n",
       "8                  4              4                 2               4   \n",
       "9                  2              4                 2               3   \n",
       "\n",
       "   FINANZ_UNAUFFAELLIGER  FINANZ_HAUSBAUER    ...     PLZ8_ANTG1  PLZ8_ANTG2  \\\n",
       "0                      5                 3    ...            NaN         NaN   \n",
       "1                      4                 5    ...            2.0         3.0   \n",
       "2                      3                 5    ...            3.0         3.0   \n",
       "3                      1                 2    ...            2.0         2.0   \n",
       "4                      3                 2    ...            2.0         4.0   \n",
       "5                      2                 5    ...            2.0         3.0   \n",
       "6                      4                 3    ...            3.0         3.0   \n",
       "7                      3                 2    ...            3.0         3.0   \n",
       "8                      2                 2    ...            2.0         3.0   \n",
       "9                      5                 4    ...            2.0         3.0   \n",
       "\n",
       "   PLZ8_ANTG3  PLZ8_ANTG4  PLZ8_BAUMAX  PLZ8_HHZ  PLZ8_GBZ  ARBEIT  \\\n",
       "0         NaN         NaN          NaN       NaN       NaN     NaN   \n",
       "1         2.0         1.0          1.0       5.0       4.0     3.0   \n",
       "2         1.0         0.0          1.0       4.0       4.0     3.0   \n",
       "3         2.0         0.0          1.0       3.0       4.0     2.0   \n",
       "4         2.0         1.0          2.0       3.0       3.0     4.0   \n",
       "5         1.0         1.0          1.0       5.0       5.0     2.0   \n",
       "6         1.0         0.0          1.0       5.0       5.0     4.0   \n",
       "7         1.0         0.0          1.0       4.0       4.0     2.0   \n",
       "8         2.0         1.0          1.0       3.0       3.0     2.0   \n",
       "9         2.0         1.0          1.0       3.0       3.0     2.0   \n",
       "\n",
       "   ORTSGR_KLS9  RELAT_AB  \n",
       "0          NaN       NaN  \n",
       "1          5.0       4.0  \n",
       "2          5.0       2.0  \n",
       "3          3.0       3.0  \n",
       "4          6.0       5.0  \n",
       "5          3.0       3.0  \n",
       "6          6.0       3.0  \n",
       "7          5.0       2.0  \n",
       "8          4.0       3.0  \n",
       "9          3.0       1.0  \n",
       "\n",
       "[10 rows x 85 columns]"
      ]
     },
     "execution_count": 9,
     "metadata": {},
     "output_type": "execute_result"
    }
   ],
   "source": [
    "azdias.head(10)"
   ]
  },
  {
   "cell_type": "code",
   "execution_count": 10,
   "metadata": {},
   "outputs": [
    {
     "name": "stdout",
     "output_type": "stream",
     "text": [
      "number of data points is coded missing :3477091\n",
      "number of total missing data :8373929\n"
     ]
    }
   ],
   "source": [
    "num_missing = azdias.isnull().sum().sum()\n",
    "num_coded_missing = num_missing - num_nat_missing\n",
    "\n",
    "print(\"number of data points is coded missing :{}\".format(num_coded_missing))\n",
    "print(\"number of total missing data :{}\".format(num_missing))"
   ]
  },
  {
   "cell_type": "markdown",
   "metadata": {},
   "source": [
    "#### Step 1.1.2: Assess Missing Data in Each Column\n",
    "\n",
    "How much missing data is present in each column? There are a few columns that are outliers in terms of the proportion of values that are missing. I use matplotlib's [`hist()`](https://matplotlib.org/api/_as_gen/matplotlib.pyplot.hist.html) function to visualize the distribution of missing value counts to find these columns. "
   ]
  },
  {
   "cell_type": "code",
   "execution_count": 11,
   "metadata": {},
   "outputs": [
    {
     "name": "stdout",
     "output_type": "stream",
     "text": [
      "AGER_TYP                 685843\n",
      "ALTERSKATEGORIE_GROB       2881\n",
      "ANREDE_KZ                     0\n",
      "CJT_GESAMTTYP              4854\n",
      "FINANZ_MINIMALIST             0\n",
      "FINANZ_SPARER                 0\n",
      "FINANZ_VORSORGER              0\n",
      "FINANZ_ANLEGER                0\n",
      "FINANZ_UNAUFFAELLIGER         0\n",
      "FINANZ_HAUSBAUER              0\n",
      "FINANZTYP                     0\n",
      "GEBURTSJAHR              392318\n",
      "GFK_URLAUBERTYP            4854\n",
      "GREEN_AVANTGARDE              0\n",
      "HEALTH_TYP               111196\n",
      "LP_LEBENSPHASE_FEIN       97632\n",
      "LP_LEBENSPHASE_GROB       94572\n",
      "LP_FAMILIE_FEIN           77792\n",
      "LP_FAMILIE_GROB           77792\n",
      "LP_STATUS_FEIN             4854\n",
      "LP_STATUS_GROB             4854\n",
      "NATIONALITAET_KZ         108315\n",
      "PRAEGENDE_JUGENDJAHRE    108164\n",
      "RETOURTYP_BK_S             4854\n",
      "SEMIO_SOZ                     0\n",
      "SEMIO_FAM                     0\n",
      "SEMIO_REL                     0\n",
      "SEMIO_MAT                     0\n",
      "SEMIO_VERT                    0\n",
      "SEMIO_LUST                    0\n",
      "                          ...  \n",
      "OST_WEST_KZ               93148\n",
      "WOHNLAGE                  93148\n",
      "CAMEO_DEUG_2015           99352\n",
      "CAMEO_DEU_2015            99352\n",
      "CAMEO_INTL_2015           99352\n",
      "KBA05_ANTG1              133324\n",
      "KBA05_ANTG2              133324\n",
      "KBA05_ANTG3              133324\n",
      "KBA05_ANTG4              133324\n",
      "KBA05_BAUMAX             476524\n",
      "KBA05_GBZ                133324\n",
      "BALLRAUM                  93740\n",
      "EWDICHTE                  93740\n",
      "INNENSTADT                93740\n",
      "GEBAEUDETYP_RASTER        93155\n",
      "KKK                      158064\n",
      "MOBI_REGIO               133324\n",
      "ONLINE_AFFINITAET          4854\n",
      "REGIOTYP                 158064\n",
      "KBA13_ANZAHL_PKW         105800\n",
      "PLZ8_ANTG1               116515\n",
      "PLZ8_ANTG2               116515\n",
      "PLZ8_ANTG3               116515\n",
      "PLZ8_ANTG4               116515\n",
      "PLZ8_BAUMAX              116515\n",
      "PLZ8_HHZ                 116515\n",
      "PLZ8_GBZ                 116515\n",
      "ARBEIT                    97375\n",
      "ORTSGR_KLS9               97274\n",
      "RELAT_AB                  97375\n",
      "Length: 85, dtype: int64\n"
     ]
    }
   ],
   "source": [
    "# Perform an assessment of how much missing data there is in each column of the\n",
    "# dataset.\n",
    "missing_col = azdias.isnull().sum()\n",
    "print(missing_col)"
   ]
  },
  {
   "cell_type": "code",
   "execution_count": 12,
   "metadata": {},
   "outputs": [
    {
     "data": {
      "text/plain": [
       "ZABEOTYP                      0\n",
       "SEMIO_TRADV                   0\n",
       "SEMIO_PFLICHT                 0\n",
       "SEMIO_KAEM                    0\n",
       "SEMIO_DOM                     0\n",
       "SEMIO_KRIT                    0\n",
       "SEMIO_RAT                     0\n",
       "SEMIO_KULT                    0\n",
       "SEMIO_ERL                     0\n",
       "SEMIO_LUST                    0\n",
       "SEMIO_VERT                    0\n",
       "SEMIO_MAT                     0\n",
       "SEMIO_REL                     0\n",
       "SEMIO_SOZ                     0\n",
       "SEMIO_FAM                     0\n",
       "FINANZ_VORSORGER              0\n",
       "ANREDE_KZ                     0\n",
       "FINANZ_MINIMALIST             0\n",
       "FINANZ_SPARER                 0\n",
       "FINANZ_ANLEGER                0\n",
       "FINANZ_UNAUFFAELLIGER         0\n",
       "FINANZ_HAUSBAUER              0\n",
       "GREEN_AVANTGARDE              0\n",
       "FINANZTYP                     0\n",
       "ALTERSKATEGORIE_GROB       2881\n",
       "GFK_URLAUBERTYP            4854\n",
       "LP_STATUS_GROB             4854\n",
       "LP_STATUS_FEIN             4854\n",
       "ONLINE_AFFINITAET          4854\n",
       "RETOURTYP_BK_S             4854\n",
       "                          ...  \n",
       "CAMEO_INTL_2015           99352\n",
       "ANZ_HAUSHALTE_AKTIV       99611\n",
       "KBA13_ANZAHL_PKW         105800\n",
       "PRAEGENDE_JUGENDJAHRE    108164\n",
       "NATIONALITAET_KZ         108315\n",
       "HEALTH_TYP               111196\n",
       "VERS_TYP                 111196\n",
       "SHOPPER_TYP              111196\n",
       "PLZ8_ANTG2               116515\n",
       "PLZ8_ANTG3               116515\n",
       "PLZ8_ANTG1               116515\n",
       "PLZ8_ANTG4               116515\n",
       "PLZ8_BAUMAX              116515\n",
       "PLZ8_HHZ                 116515\n",
       "PLZ8_GBZ                 116515\n",
       "KBA05_ANTG3              133324\n",
       "KBA05_ANTG2              133324\n",
       "KBA05_ANTG1              133324\n",
       "MOBI_REGIO               133324\n",
       "KBA05_GBZ                133324\n",
       "KBA05_ANTG4              133324\n",
       "W_KEIT_KIND_HH           147988\n",
       "KKK                      158064\n",
       "REGIOTYP                 158064\n",
       "ALTER_HH                 310267\n",
       "GEBURTSJAHR              392318\n",
       "KBA05_BAUMAX             476524\n",
       "KK_KUNDENTYP             584612\n",
       "AGER_TYP                 685843\n",
       "TITEL_KZ                 889061\n",
       "Length: 85, dtype: int64"
      ]
     },
     "execution_count": 12,
     "metadata": {},
     "output_type": "execute_result"
    }
   ],
   "source": [
    "# Investigate patterns in the amount of missing data in each column.\n",
    "missing_col.sort_values(ascending=True,inplace=True)\n",
    "missing_col"
   ]
  },
  {
   "cell_type": "code",
   "execution_count": 13,
   "metadata": {},
   "outputs": [
    {
     "data": {
      "text/plain": [
       "ZABEOTYP                  0.000000\n",
       "SEMIO_TRADV               0.000000\n",
       "SEMIO_PFLICHT             0.000000\n",
       "SEMIO_KAEM                0.000000\n",
       "SEMIO_DOM                 0.000000\n",
       "SEMIO_KRIT                0.000000\n",
       "SEMIO_RAT                 0.000000\n",
       "SEMIO_KULT                0.000000\n",
       "SEMIO_ERL                 0.000000\n",
       "SEMIO_LUST                0.000000\n",
       "SEMIO_VERT                0.000000\n",
       "SEMIO_MAT                 0.000000\n",
       "SEMIO_REL                 0.000000\n",
       "SEMIO_SOZ                 0.000000\n",
       "SEMIO_FAM                 0.000000\n",
       "FINANZ_VORSORGER          0.000000\n",
       "ANREDE_KZ                 0.000000\n",
       "FINANZ_MINIMALIST         0.000000\n",
       "FINANZ_SPARER             0.000000\n",
       "FINANZ_ANLEGER            0.000000\n",
       "FINANZ_UNAUFFAELLIGER     0.000000\n",
       "FINANZ_HAUSBAUER          0.000000\n",
       "GREEN_AVANTGARDE          0.000000\n",
       "FINANZTYP                 0.000000\n",
       "ALTERSKATEGORIE_GROB      0.323264\n",
       "GFK_URLAUBERTYP           0.544646\n",
       "LP_STATUS_GROB            0.544646\n",
       "LP_STATUS_FEIN            0.544646\n",
       "ONLINE_AFFINITAET         0.544646\n",
       "RETOURTYP_BK_S            0.544646\n",
       "                           ...    \n",
       "CAMEO_INTL_2015          11.147852\n",
       "ANZ_HAUSHALTE_AKTIV      11.176913\n",
       "KBA13_ANZAHL_PKW         11.871354\n",
       "PRAEGENDE_JUGENDJAHRE    12.136608\n",
       "NATIONALITAET_KZ         12.153551\n",
       "HEALTH_TYP               12.476816\n",
       "VERS_TYP                 12.476816\n",
       "SHOPPER_TYP              12.476816\n",
       "PLZ8_ANTG2               13.073637\n",
       "PLZ8_ANTG3               13.073637\n",
       "PLZ8_ANTG1               13.073637\n",
       "PLZ8_ANTG4               13.073637\n",
       "PLZ8_BAUMAX              13.073637\n",
       "PLZ8_HHZ                 13.073637\n",
       "PLZ8_GBZ                 13.073637\n",
       "KBA05_ANTG3              14.959701\n",
       "KBA05_ANTG2              14.959701\n",
       "KBA05_ANTG1              14.959701\n",
       "MOBI_REGIO               14.959701\n",
       "KBA05_GBZ                14.959701\n",
       "KBA05_ANTG4              14.959701\n",
       "W_KEIT_KIND_HH           16.605084\n",
       "KKK                      17.735668\n",
       "REGIOTYP                 17.735668\n",
       "ALTER_HH                 34.813699\n",
       "GEBURTSJAHR              44.020282\n",
       "KBA05_BAUMAX             53.468668\n",
       "KK_KUNDENTYP             65.596749\n",
       "AGER_TYP                 76.955435\n",
       "TITEL_KZ                 99.757636\n",
       "Length: 85, dtype: float64"
      ]
     },
     "execution_count": 13,
     "metadata": {},
     "output_type": "execute_result"
    }
   ],
   "source": [
    "missing_col_per = missing_col/azdias.shape[0]*100\n",
    "missing_col_per"
   ]
  },
  {
   "cell_type": "code",
   "execution_count": 14,
   "metadata": {},
   "outputs": [
    {
     "data": {
      "image/png": "[encoded data removed]",
      "text/plain": [
       "<matplotlib.figure.Figure at 0x7fc6e26007f0>"
      ]
     },
     "metadata": {
      "needs_background": "light"
     },
     "output_type": "display_data"
    }
   ],
   "source": [
    "plt.hist(missing_col_per)\n",
    "plt.xlabel('percentage of missing values for each column')\n",
    "plt.ylabel('Counts')\n",
    "plt.title('Histogram for number of missing values')\n",
    "plt.show()"
   ]
  },
  {
   "cell_type": "code",
   "execution_count": 15,
   "metadata": {},
   "outputs": [],
   "source": [
    "# Remove the outlier columns from the dataset. (other data\n",
    "# engineering tasks such as re-encoding and imputation will be performed later.)\n",
    "outlier_col = missing_col_per[missing_col_per > 20].index\n",
    "azdias.drop(columns=outlier_col, axis=\"columns\",inplace=True)"
   ]
  },
  {
   "cell_type": "code",
   "execution_count": 16,
   "metadata": {},
   "outputs": [
    {
     "data": {
      "text/plain": [
       "(891221, 79)"
      ]
     },
     "execution_count": 16,
     "metadata": {},
     "output_type": "execute_result"
    }
   ],
   "source": [
    "azdias.shape"
   ]
  },
  {
   "cell_type": "markdown",
   "metadata": {},
   "source": [
    "#### Discussion 1.1.2: Assess Missing Data in Each Column\n",
    "\n",
    "In total, there are 8373929 data points are missing or unknown from the dataset. Among them, \n",
    "4896838 data points are naturally missing and 3477091 data points are coded missing. \n",
    "\n",
    "By checking the histogram of percentage of missing data in each column, I found that most columns have missing data lower than 20%. Therefore, those with missing data higher than 20% were outliers and removed from the dataset. "
   ]
  },
  {
   "cell_type": "markdown",
   "metadata": {},
   "source": [
    "#### Step 1.1.3: Assess Missing Data in Each Row\n",
    "\n",
    "Now, I'll perform a similar assessment for the rows of the dataset.I divide the data into two subsets: one for data points that are above some threshold for missing values, and a second subset for points below that threshold.\n",
    "\n",
    "In order to know what to do with the outlier rows, I checked if the distribution of data values on columns that are not missing data (or are missing very little data) are similar or different between the two groups. Select at least five of these columns and compare the distribution of values.\n",
    "- use seaborn's [`countplot()`](https://seaborn.pydata.org/generated/seaborn.countplot.html) function to create a bar chart of code frequencies and matplotlib's [`subplot()`](https://matplotlib.org/api/_as_gen/matplotlib.pyplot.subplot.html) function to put bar charts for the two subplots side by side."
   ]
  },
  {
   "cell_type": "code",
   "execution_count": 17,
   "metadata": {},
   "outputs": [
    {
     "data": {
      "text/plain": [
       "count    891221.000000\n",
       "mean          5.649894\n",
       "std          13.234687\n",
       "min           0.000000\n",
       "25%           0.000000\n",
       "50%           0.000000\n",
       "75%           3.000000\n",
       "max          49.000000\n",
       "dtype: float64"
      ]
     },
     "execution_count": 17,
     "metadata": {},
     "output_type": "execute_result"
    }
   ],
   "source": [
    "# How much data is missing in each row of the dataset?\n",
    "missing_row = azdias.isnull().sum(axis=1)\n",
    "missing_row.describe()"
   ]
  },
  {
   "cell_type": "code",
   "execution_count": 18,
   "metadata": {},
   "outputs": [
    {
     "data": {
      "image/png": "[encoded data removed]",
      "text/plain": [
       "<matplotlib.figure.Figure at 0x7fc6b002c630>"
      ]
     },
     "metadata": {
      "needs_background": "light"
     },
     "output_type": "display_data"
    }
   ],
   "source": [
    "plt.hist(missing_row)\n",
    "plt.xlabel('Number of missing values for each row')\n",
    "plt.ylabel('Counts')\n",
    "plt.title('Histogram for number of missing values')\n",
    "plt.show()"
   ]
  },
  {
   "cell_type": "code",
   "execution_count": 19,
   "metadata": {},
   "outputs": [],
   "source": [
    "# Write code to divide the data into two subsets based on the number of missing\n",
    "# values in each row.\n",
    "boundary = 20\n",
    "\n",
    "less_missing = azdias[missing_row<boundary]\n",
    "more_missing =azdias[missing_row>=boundary]"
   ]
  },
  {
   "cell_type": "code",
   "execution_count": 20,
   "metadata": {},
   "outputs": [
    {
     "data": {
      "image/png": "[encoded data removed]",
      "text/plain": [
       "<matplotlib.figure.Figure at 0x7fc6aff56a20>"
      ]
     },
     "metadata": {
      "needs_background": "light"
     },
     "output_type": "display_data"
    },
    {
     "data": {
      "image/png": "[encoded data removed]",
      "text/plain": [
       "<matplotlib.figure.Figure at 0x7fc6ac215668>"
      ]
     },
     "metadata": {
      "needs_background": "light"
     },
     "output_type": "display_data"
    },
    {
     "data": {
      "image/png": "[encoded data removed]",
      "text/plain": [
       "<matplotlib.figure.Figure at 0x7fc6ac127518>"
      ]
     },
     "metadata": {
      "needs_background": "light"
     },
     "output_type": "display_data"
    },
    {
     "data": {
      "image/png": "[encoded data removed]",
      "text/plain": [
       "<matplotlib.figure.Figure at 0x7fc6ac0c6e10>"
      ]
     },
     "metadata": {
      "needs_background": "light"
     },
     "output_type": "display_data"
    },
    {
     "data": {
      "image/png": "[encoded data removed]",
      "text/plain": [
       "<matplotlib.figure.Figure at 0x7fc6ac103b38>"
      ]
     },
     "metadata": {
      "needs_background": "light"
     },
     "output_type": "display_data"
    }
   ],
   "source": [
    "# Compare the distribution of values for at least five columns where there are\n",
    "# no or few missing values, between the two subsets.\n",
    "top5_col = missing_col[:5].index\n",
    "\n",
    "def compare_plot(column):\n",
    "    fig, axs = plt.subplots(1, 2)\n",
    "    fig.set_figwidth(12)\n",
    "    axs[0].set_title('missing values less than 20')\n",
    "    sns.countplot(less_missing[column], ax=axs[0])\n",
    "    axs[1].set_title('missing values more than 20')\n",
    "    sns.countplot(more_missing[column], ax=axs[1])   \n",
    "\n",
    "for column in top5_col:\n",
    "    compare_plot(column)\n"
   ]
  },
  {
   "cell_type": "markdown",
   "metadata": {},
   "source": [
    "#### Discussion 1.1.3: Assess Missing Data in Each Row\n",
    "\n",
    "For rows, the number of missing values ranges from 0 to 49. From the Histogram for number of missing values, we found that the majority of rows has missing value less than 20. Therefore, we separate the data into rows with lots of missing values (more than 19) and rows with less missing values (less than 20). \n",
    "As we saw in the above figures, the data with less missing values show different pattern of distribution compared with data with lots of missing values. "
   ]
  },
  {
   "cell_type": "code",
   "execution_count": 21,
   "metadata": {},
   "outputs": [
    {
     "data": {
      "text/plain": [
       "(797077, 79)"
      ]
     },
     "execution_count": 21,
     "metadata": {},
     "output_type": "execute_result"
    }
   ],
   "source": [
    "# continue with rows with less missing values\n",
    "\n",
    "azdias_1 = azdias[missing_row<20]\n",
    "azdias_1.shape"
   ]
  },
  {
   "cell_type": "markdown",
   "metadata": {},
   "source": [
    "### Step 1.2: Select and Re-Encode Features\n",
    "\n",
    "Since the unsupervised learning techniques to be used will only work on data that is encoded numerically, I need to make a few encoding changes or additional assumptions to be able to make progress. In addition, while almost all of the values in the dataset are encoded using numbers, not all of them represent numeric values. Check the third column of the feature summary (`feat_info`) for a summary of types of measurement.\n",
    "\n",
    "- For numeric and interval data, these features can be kept without changes.\n",
    "- Most of the variables in the dataset are ordinal in nature. While ordinal values may technically be non-linear in spacing, make the simplifying assumption that the ordinal variables can be treated as being interval in nature (that is, kept without any changes).\n",
    "- Special handling may be necessary for the remaining two variable types: categorical, and 'mixed'."
   ]
  },
  {
   "cell_type": "code",
   "execution_count": 22,
   "metadata": {},
   "outputs": [
    {
     "data": {
      "text/plain": [
       "ordinal        49\n",
       "categorical    18\n",
       "numeric         6\n",
       "mixed           6\n",
       "Name: type, dtype: int64"
      ]
     },
     "execution_count": 22,
     "metadata": {},
     "output_type": "execute_result"
    }
   ],
   "source": [
    "# How many features are there of each data type?\n",
    "feat_info = feat_info[feat_info.attribute.isin(azdias_1.columns)]\n",
    "feat_info.type.value_counts()"
   ]
  },
  {
   "cell_type": "markdown",
   "metadata": {},
   "source": [
    "#### Step 1.2.1: Re-Encode Categorical Features\n",
    "\n",
    "For categorical data, I would ordinarily need to encode the levels as dummy variables. Depending on the number of categories, perform one of the following:\n",
    "- For binary (two-level) categoricals that take numeric values, we can keep them without needing to do anything.\n",
    "- There is one binary variable that takes on non-numeric values. For this one, we need to re-encode the values as numbers or create a dummy variable.\n",
    "- For multi-level categoricals (three or more values), we can choose to encode the values using multiple dummy variables (e.g. via [OneHotEncoder](http://scikit-learn.org/stable/modules/generated/sklearn.preprocessing.OneHotEncoder.html)), or (to keep things straightforward) just drop them from the analysis. "
   ]
  },
  {
   "cell_type": "code",
   "execution_count": 23,
   "metadata": {
    "scrolled": true
   },
   "outputs": [
    {
     "name": "stdout",
     "output_type": "stream",
     "text": [
      "ANREDE_KZ\n",
      "[2 1]\n",
      "CJT_GESAMTTYP\n",
      "[  5.   3.   2.   4.   1.   6.  nan]\n",
      "FINANZTYP\n",
      "[1 6 5 2 4 3]\n",
      "GFK_URLAUBERTYP\n",
      "[ 10.   1.   5.  12.   9.   3.   8.  11.   4.   2.   7.   6.  nan]\n",
      "GREEN_AVANTGARDE\n",
      "[0 1]\n",
      "LP_FAMILIE_FEIN\n",
      "[  5.   1.  nan  10.   2.   7.  11.   8.   4.   6.   9.   3.]\n",
      "LP_FAMILIE_GROB\n",
      "[  3.   1.  nan   5.   2.   4.]\n",
      "LP_STATUS_FEIN\n",
      "[  2.   3.   9.   4.   1.  10.   5.   8.   6.   7.  nan]\n",
      "LP_STATUS_GROB\n",
      "[  1.   2.   4.   5.   3.  nan]\n",
      "NATIONALITAET_KZ\n",
      "[  1.   3.   2.  nan]\n",
      "SHOPPER_TYP\n",
      "[  3.   2.   1.   0.  nan]\n",
      "SOHO_KZ\n",
      "[ 1.  0.]\n",
      "VERS_TYP\n",
      "[  2.   1.  nan]\n",
      "ZABEOTYP\n",
      "[5 3 4 1 6 2]\n",
      "GEBAEUDETYP\n",
      "[ 8.  1.  3.  2.  6.  4.  5.]\n",
      "OST_WEST_KZ\n",
      "['W' 'O']\n",
      "CAMEO_DEUG_2015\n",
      "['8' '4' '2' '6' '1' '9' '5' '7' nan '3']\n",
      "CAMEO_DEU_2015\n",
      "['8A' '4C' '2A' '6B' '8C' '4A' '2D' '1A' '1E' '9D' '5C' '8B' '7A' '5D' '9E'\n",
      " nan '9B' '1B' '3D' '4E' '4B' '3C' '5A' '7B' '9A' '6D' '6E' '2C' '7C' '9C'\n",
      " '7D' '5E' '1D' '8D' '6C' '6A' '5B' '4D' '3A' '2B' '7E' '3B' '6F' '5F' '1C']\n"
     ]
    }
   ],
   "source": [
    "# Assess categorical variables: which are binary, which are multi-level, and\n",
    "# which one needs to be re-encoded?\n",
    "cat_var = feat_info[feat_info.type==\"categorical\"]\n",
    "cat_binary = []\n",
    "cat_multi = []\n",
    "for col in cat_var.attribute:\n",
    "    if azdias_1[col].nunique() == 2:\n",
    "        cat_binary.append(col)\n",
    "    else:\n",
    "        cat_multi.append(col)\n",
    "    print(col)\n",
    "    print(azdias_1[col].unique())"
   ]
  },
  {
   "cell_type": "code",
   "execution_count": 24,
   "metadata": {},
   "outputs": [
    {
     "name": "stdout",
     "output_type": "stream",
     "text": [
      "[2 1]\n",
      "[0 1]\n",
      "[ 1.  0.]\n",
      "[  2.   1.  nan]\n",
      "[0 1]\n"
     ]
    },
    {
     "name": "stderr",
     "output_type": "stream",
     "text": [
      "/opt/conda/lib/python3.6/site-packages/pandas/core/generic.py:5890: SettingWithCopyWarning: \n",
      "A value is trying to be set on a copy of a slice from a DataFrame\n",
      "\n",
      "See the caveats in the documentation: http://pandas.pydata.org/pandas-docs/stable/indexing.html#indexing-view-versus-copy\n",
      "  self._update_inplace(new_data)\n"
     ]
    }
   ],
   "source": [
    "# Re-encode binary categorical variable(s) to be kept in the analysis.\n",
    "for col in cat_binary:\n",
    "    if isinstance(azdias_1[col].unique()[0], str):\n",
    "        azdias_1[col].replace({azdias_1[col].unique()[0]:0,azdias_1[col].unique()[1]:1},inplace=True)\n",
    "    print(azdias_1[col].unique())\n",
    "        "
   ]
  },
  {
   "cell_type": "code",
   "execution_count": 25,
   "metadata": {},
   "outputs": [
    {
     "data": {
      "text/plain": [
       "(797077, 76)"
      ]
     },
     "execution_count": 25,
     "metadata": {},
     "output_type": "execute_result"
    }
   ],
   "source": [
    "# drop features\n",
    "azdias_1 = azdias_1.drop(columns=['LP_FAMILIE_GROB','LP_STATUS_GROB','CAMEO_DEUG_2015'])\n",
    "azdias_1.shape"
   ]
  },
  {
   "cell_type": "code",
   "execution_count": 26,
   "metadata": {},
   "outputs": [],
   "source": [
    "for col in ['LP_FAMILIE_GROB','LP_STATUS_GROB','CAMEO_DEUG_2015']:\n",
    "    cat_multi.remove(col)"
   ]
  },
  {
   "cell_type": "code",
   "execution_count": 27,
   "metadata": {},
   "outputs": [],
   "source": [
    "# Re-encode multiple categorical variable(s) to be kept in the analysis.\n",
    "azdias_1 = pd.get_dummies(data=azdias_1,columns=cat_multi)    "
   ]
  },
  {
   "cell_type": "code",
   "execution_count": 28,
   "metadata": {},
   "outputs": [
    {
     "data": {
      "text/plain": [
       "(797077, 175)"
      ]
     },
     "execution_count": 28,
     "metadata": {},
     "output_type": "execute_result"
    }
   ],
   "source": [
    "azdias_1.shape"
   ]
  },
  {
   "cell_type": "markdown",
   "metadata": {},
   "source": [
    "#### Discussion 1.2.1: Re-Encode Categorical Features\n",
    "\n",
    "I dropped three features: 'LP_FAMILIE_GROB','LP_STATUS_GROB','CAMEO_DEUG_2015'. Because there are similar features with different scale.  \n",
    "I re-encoded the binary categorical features with string values into numerical values. \n",
    "I used get_dummies function from pandas to re-encode the variables for multiple categorical features. "
   ]
  },
  {
   "cell_type": "markdown",
   "metadata": {},
   "source": [
    "#### Step 1.2.2: Engineer Mixed-Type Features\n",
    "\n",
    "There are a handful of features that are marked as \"mixed\" in the feature summary that require special treatment in order to be included in the analysis. There are two in particular that deserve attention:\n",
    "- \"PRAEGENDE_JUGENDJAHRE\" combines information on three dimensions: generation by decade, movement (mainstream vs. avantgarde), and nation (east vs. west). While there aren't enough levels to disentangle east from west, you should create two new variables to capture the other two dimensions: an interval-type variable for decade, and a binary variable for movement.\n",
    "- \"CAMEO_INTL_2015\" combines information on two axes: wealth and life stage. Break up the two-digit codes by their 'tens'-place and 'ones'-place digits into two new ordinal variables (which, for the purposes of this project, is equivalent to just treating them as their raw numeric values).\n",
    "- If you decide to keep or engineer new features around the other mixed-type features, make sure you note your steps in the Discussion section."
   ]
  },
  {
   "cell_type": "code",
   "execution_count": 29,
   "metadata": {},
   "outputs": [
    {
     "data": {
      "text/html": [
       "<div>\n",
       "<style scoped>\n",
       "    .dataframe tbody tr th:only-of-type {\n",
       "        vertical-align: middle;\n",
       "    }\n",
       "\n",
       "    .dataframe tbody tr th {\n",
       "        vertical-align: top;\n",
       "    }\n",
       "\n",
       "    .dataframe thead th {\n",
       "        text-align: right;\n",
       "    }\n",
       "</style>\n",
       "<table border=\"1\" class=\"dataframe\">\n",
       "  <thead>\n",
       "    <tr style=\"text-align: right;\">\n",
       "      <th></th>\n",
       "      <th>attribute</th>\n",
       "      <th>information_level</th>\n",
       "      <th>type</th>\n",
       "      <th>missing_or_unknown</th>\n",
       "    </tr>\n",
       "  </thead>\n",
       "  <tbody>\n",
       "    <tr>\n",
       "      <th>15</th>\n",
       "      <td>LP_LEBENSPHASE_FEIN</td>\n",
       "      <td>person</td>\n",
       "      <td>mixed</td>\n",
       "      <td>[0]</td>\n",
       "    </tr>\n",
       "    <tr>\n",
       "      <th>16</th>\n",
       "      <td>LP_LEBENSPHASE_GROB</td>\n",
       "      <td>person</td>\n",
       "      <td>mixed</td>\n",
       "      <td>[0]</td>\n",
       "    </tr>\n",
       "    <tr>\n",
       "      <th>22</th>\n",
       "      <td>PRAEGENDE_JUGENDJAHRE</td>\n",
       "      <td>person</td>\n",
       "      <td>mixed</td>\n",
       "      <td>[-1,0]</td>\n",
       "    </tr>\n",
       "    <tr>\n",
       "      <th>56</th>\n",
       "      <td>WOHNLAGE</td>\n",
       "      <td>building</td>\n",
       "      <td>mixed</td>\n",
       "      <td>[-1]</td>\n",
       "    </tr>\n",
       "    <tr>\n",
       "      <th>59</th>\n",
       "      <td>CAMEO_INTL_2015</td>\n",
       "      <td>microcell_rr4</td>\n",
       "      <td>mixed</td>\n",
       "      <td>[-1,XX]</td>\n",
       "    </tr>\n",
       "    <tr>\n",
       "      <th>79</th>\n",
       "      <td>PLZ8_BAUMAX</td>\n",
       "      <td>macrocell_plz8</td>\n",
       "      <td>mixed</td>\n",
       "      <td>[-1,0]</td>\n",
       "    </tr>\n",
       "  </tbody>\n",
       "</table>\n",
       "</div>"
      ],
      "text/plain": [
       "                attribute information_level   type missing_or_unknown\n",
       "15    LP_LEBENSPHASE_FEIN            person  mixed                [0]\n",
       "16    LP_LEBENSPHASE_GROB            person  mixed                [0]\n",
       "22  PRAEGENDE_JUGENDJAHRE            person  mixed             [-1,0]\n",
       "56               WOHNLAGE          building  mixed               [-1]\n",
       "59        CAMEO_INTL_2015     microcell_rr4  mixed            [-1,XX]\n",
       "79            PLZ8_BAUMAX    macrocell_plz8  mixed             [-1,0]"
      ]
     },
     "execution_count": 29,
     "metadata": {},
     "output_type": "execute_result"
    }
   ],
   "source": [
    "mix_var = feat_info[feat_info.type==\"mixed\"]\n",
    "mix_var"
   ]
  },
  {
   "cell_type": "code",
   "execution_count": 30,
   "metadata": {},
   "outputs": [
    {
     "data": {
      "text/plain": [
       "array([ 14.,  15.,   8.,   3.,  10.,  11.,   5.,   9.,   6.,   4.,  nan,\n",
       "         2.,   1.,  12.,  13.,   7.])"
      ]
     },
     "execution_count": 30,
     "metadata": {},
     "output_type": "execute_result"
    }
   ],
   "source": [
    "azdias_1[\"PRAEGENDE_JUGENDJAHRE\"].unique()"
   ]
  },
  {
   "cell_type": "code",
   "execution_count": 31,
   "metadata": {},
   "outputs": [],
   "source": [
    "# Investigate \"PRAEGENDE_JUGENDJAHRE\" and engineer two new variables.\n",
    "decade_rep = {1:1,2:1,3:2,4:2,5:3,6:3,7:3,8:4,9:4,10:5,11:5,12:5,13:5,14:6,15:6}\n",
    "azdias_1[\"DECADE\"] = azdias_1[\"PRAEGENDE_JUGENDJAHRE\"].replace(decade_rep)\n",
    "movement_rep = {1:1,2:2,3:1,4:2,5:1,6:2,7:2,8:1,9:2,10:1,11:2,12:1,13:2,14:1,15:2}\n",
    "azdias_1[\"MOVEMENT\"] = azdias_1[\"PRAEGENDE_JUGENDJAHRE\"].replace(movement_rep)\n",
    "azdias_1.drop(\"PRAEGENDE_JUGENDJAHRE\",axis=1,inplace=True)"
   ]
  },
  {
   "cell_type": "code",
   "execution_count": 32,
   "metadata": {},
   "outputs": [
    {
     "data": {
      "text/plain": [
       "array(['51', '24', '12', '43', '54', '22', '14', '13', '15', '33', '41',\n",
       "       '34', '55', nan, '25', '23', '31', '52', '35', '45', '44', '32'], dtype=object)"
      ]
     },
     "execution_count": 32,
     "metadata": {},
     "output_type": "execute_result"
    }
   ],
   "source": [
    "azdias_1[\"CAMEO_INTL_2015\"].unique()"
   ]
  },
  {
   "cell_type": "code",
   "execution_count": 33,
   "metadata": {},
   "outputs": [],
   "source": [
    "# Investigate \"CAMEO_INTL_2015\" and engineer two new variables.\n",
    "azdias_1[\"WEALTH\"] = azdias_1[\"CAMEO_INTL_2015\"]\n",
    "azdias_1[\"LIFE_STAGE\"] = azdias_1[\"CAMEO_INTL_2015\"]\n",
    "azdias_1.drop(\"CAMEO_INTL_2015\",axis=1,inplace=True)\n",
    "for i in list(range(1,6)):\n",
    "    for ii in list(range(1,6)):\n",
    "        azdias_1[\"WEALTH\"].replace(str(i*10+ii),int(i), inplace=True)\n",
    "        azdias_1[\"LIFE_STAGE\"].replace(str(i*10+ii),int(ii), inplace=True)"
   ]
  },
  {
   "cell_type": "code",
   "execution_count": 34,
   "metadata": {},
   "outputs": [],
   "source": [
    "# drop \"LP_LEBENSPHASE_FEIN\" etc. features since it is a mixture of other exsit features\n",
    "azdias_1.drop([\"LP_LEBENSPHASE_FEIN\", \"LP_LEBENSPHASE_FEIN\", \"PLZ8_BAUMAX\"],axis=1,inplace=True)\n"
   ]
  },
  {
   "cell_type": "code",
   "execution_count": 35,
   "metadata": {},
   "outputs": [
    {
     "data": {
      "text/plain": [
       "(797077, 175)"
      ]
     },
     "execution_count": 35,
     "metadata": {},
     "output_type": "execute_result"
    }
   ],
   "source": [
    "azdias_1.shape"
   ]
  },
  {
   "cell_type": "markdown",
   "metadata": {},
   "source": [
    "#### Discussion 1.2.2: Engineer Mixed-Type Features\n",
    "\n",
    "There are six mixed-value features. \n",
    "I drop three of them which is \"LP_LEBENSPHASE_FEIN\", \"LP_LEBENSPHASE_FEIN\", \"PLZ8_BAUMAX\", since they contain information that already exist in other non-mixed features.\n",
    "The rest I kept. \"PRAEGENDE_JUGENDJAHRE\" and \"CAMEO_INTL_2015\" were broken into new variables.\n",
    "Engineering steps:\n",
    "1. create new variables for each mixed features\n",
    "2. replace values the mixed-type in a new feature\n",
    "3. drop the mixed feature from the dataset"
   ]
  },
  {
   "cell_type": "markdown",
   "metadata": {},
   "source": [
    "#### Step 1.2.3: Complete Feature Selection\n",
    "\n",
    "To be sure that the dataframe should consist of the following:\n",
    "- All numeric, interval, and ordinal type columns from the original dataset.\n",
    "- Binary categorical features (all numerically-encoded).\n",
    "- Engineered features from other multi-level categorical features and mixed features.\n"
   ]
  },
  {
   "cell_type": "code",
   "execution_count": 36,
   "metadata": {},
   "outputs": [
    {
     "name": "stdout",
     "output_type": "stream",
     "text": [
      "<class 'pandas.core.frame.DataFrame'>\n",
      "Int64Index: 797077 entries, 1 to 891220\n",
      "Columns: 175 entries, ALTERSKATEGORIE_GROB to LIFE_STAGE\n",
      "dtypes: float64(43), int64(23), uint8(109)\n",
      "memory usage: 490.3 MB\n"
     ]
    }
   ],
   "source": [
    "azdias_1.info()"
   ]
  },
  {
   "cell_type": "markdown",
   "metadata": {},
   "source": [
    "### Step 1.3: Create a Cleaning Function\n",
    "\n",
    "Even though I've finished cleaning up the general population demographics data, it's important to look ahead to the future and realize that one may need to perform the same cleaning steps on the customer demographics data. \n",
    "In this substep, I generate functions to execute the main feature selection, encoding, and re-engineering steps you performed above. "
   ]
  },
  {
   "cell_type": "code",
   "execution_count": 38,
   "metadata": {},
   "outputs": [],
   "source": [
    "def clean_data(df,feat_info, outlier_col):\n",
    "    \"\"\"\n",
    "    Perform feature trimming, re-encoding, and engineering for demographics\n",
    "    data\n",
    "    \n",
    "    INPUT: Demographics DataFrame\n",
    "    OUTPUT: Trimmed and cleaned demographics DataFrame\n",
    "    \"\"\"\n",
    "    \n",
    "    # Put in code here to execute all main cleaning steps:\n",
    "    # convert missing value codes into NaNs, ...\n",
    "    for fi in range(df.shape[1]):\n",
    "        missing_list = feat_info['missing_or_unknown'][fi][1:-1].split(',')\n",
    "        if feat_info['missing_or_unknown'][fi] != '[]': # if missing value list is not empty\n",
    "            for missing_val in missing_list:\n",
    "                if missing_val.isnumeric() or missing_val.lstrip('-').isnumeric():\n",
    "                    missing_val = int(missing_val)\n",
    "                df[feat_info['attribute'][fi]] = df[feat_info['attribute'][fi]].replace(missing_val, np.nan)\n",
    "  \n",
    "    # remove selected columns and rows, ...\n",
    "    df.drop(columns=outlier_col, axis=\"columns\",inplace=True)\n",
    "    \n",
    "    missing_row = df.isnull().sum(axis=1)\n",
    "    df = df[missing_row<20]\n",
    "    # select, re-encode, and engineer column values.\n",
    "    feat_info = feat_info[feat_info.attribute.isin(df.columns)]\n",
    "    cat_var = feat_info[feat_info.type==\"categorical\"]\n",
    "    cat_binary = []\n",
    "    cat_multi = []\n",
    "    for col in cat_var.attribute:\n",
    "        if df[col].nunique() == 2:\n",
    "            cat_binary.append(col)\n",
    "        else:\n",
    "            cat_multi.append(col)\n",
    "    for col in cat_binary:\n",
    "        if isinstance(df[col].unique()[0], str):\n",
    "            df[col].replace({df[col].unique()[0]:0,df[col].unique()[1]:1},inplace=True)\n",
    "    \n",
    "    df.drop(['LP_FAMILIE_GROB','LP_STATUS_GROB','CAMEO_DEUG_2015'],axis=1,inplace=True,errors='ignore')\n",
    "         \n",
    "    for col in ['LP_FAMILIE_GROB','LP_STATUS_GROB','CAMEO_DEUG_2015']:\n",
    "        if col in cat_multi:\n",
    "            cat_multi.remove(col)\n",
    "    df = pd.get_dummies(data=df,columns=cat_multi)  \n",
    "    \n",
    "    decade_rep = {1:1,2:1,3:2,4:2,5:3,6:3,7:3,8:4,9:4,10:5,11:5,12:5,13:5,14:6,15:6}\n",
    "    df[\"DECADE\"] = df[\"PRAEGENDE_JUGENDJAHRE\"]\n",
    "    df[\"DECADE\"].replace(decade_rep, inplace=True)\n",
    "    movement_rep = {1:1,2:2,3:1,4:2,5:1,6:2,7:2,8:1,9:2,10:1,11:2,12:1,13:2,14:1,15:2}\n",
    "    df[\"MOVEMENT\"] = df[\"PRAEGENDE_JUGENDJAHRE\"]\n",
    "    df[\"MOVEMENT\"].replace(movement_rep, inplace=True)\n",
    "    df.drop(\"PRAEGENDE_JUGENDJAHRE\",axis=1,inplace=True,errors='ignore')\n",
    "    \n",
    "    df[\"WEALTH\"] = df[\"CAMEO_INTL_2015\"]\n",
    "    df[\"LIFE_STAGE\"] = df[\"CAMEO_INTL_2015\"]\n",
    "    df.drop(\"CAMEO_INTL_2015\",axis=1,inplace=True,errors='ignore')\n",
    "    for i in list(range(1,6)):\n",
    "        for ii in list(range(1,6)):\n",
    "            df[\"WEALTH\"].replace(str(i*10+ii),int(i), inplace=True)\n",
    "            df[\"LIFE_STAGE\"].replace(str(i*10+ii),int(ii), inplace=True)\n",
    "    \n",
    "    df.drop([\"LP_LEBENSPHASE_FEIN\", \"LP_LEBENSPHASE_FEIN\", \"PLZ8_BAUMAX\"],axis=1,inplace=True,errors='ignore')\n",
    "\n",
    "    # Return the cleaned dataframe.\n",
    "    return df\n",
    "    "
   ]
  },
  {
   "cell_type": "code",
   "execution_count": 39,
   "metadata": {},
   "outputs": [
    {
     "name": "stderr",
     "output_type": "stream",
     "text": [
      "/opt/conda/lib/python3.6/site-packages/pandas/core/generic.py:5890: SettingWithCopyWarning: \n",
      "A value is trying to be set on a copy of a slice from a DataFrame\n",
      "\n",
      "See the caveats in the documentation: http://pandas.pydata.org/pandas-docs/stable/indexing.html#indexing-view-versus-copy\n",
      "  self._update_inplace(new_data)\n",
      "/opt/conda/lib/python3.6/site-packages/pandas/core/frame.py:3697: SettingWithCopyWarning: \n",
      "A value is trying to be set on a copy of a slice from a DataFrame\n",
      "\n",
      "See the caveats in the documentation: http://pandas.pydata.org/pandas-docs/stable/indexing.html#indexing-view-versus-copy\n",
      "  errors=errors)\n"
     ]
    }
   ],
   "source": [
    "azdias_test = pd.read_csv('Udacity_AZDIAS_Subset.csv', sep=';')\n",
    "\n",
    "# Load in the feature summary file.\n",
    "feat_info1 = pd.read_csv('AZDIAS_Feature_Summary.csv', sep=';')\n",
    "azdias_test = clean_data(azdias_test,feat_info1, outlier_col)"
   ]
  },
  {
   "cell_type": "code",
   "execution_count": 40,
   "metadata": {},
   "outputs": [
    {
     "data": {
      "text/plain": [
       "(797077, 175)"
      ]
     },
     "execution_count": 40,
     "metadata": {},
     "output_type": "execute_result"
    }
   ],
   "source": [
    "azdias_test.shape"
   ]
  },
  {
   "cell_type": "markdown",
   "metadata": {},
   "source": [
    "## Step 2: Feature Transformation\n",
    "\n",
    "### Step 2.1: Apply Feature Scaling\n",
    "\n",
    "Before applying dimensionality reduction techniques to the data, we need to perform feature scaling so that the principal component vectors are not influenced by the natural differences in scale for features. \n",
    "Starting from this part of the project, we can keep an eye on the [API reference page for sklearn](http://scikit-learn.org/stable/modules/classes.html) to help navigating to all of the classes and functions that you'll need. In this substep, check the following:\n",
    "\n",
    "- sklearn requires that data not have missing values in order for its estimators to work properly. So, before applying the scaler to your data, make sure that you've cleaned the DataFrame of the remaining missing values. This can be as simple as just removing all data points with missing data, or applying an [Imputer](http://scikit-learn.org/stable/modules/generated/sklearn.preprocessing.Imputer.html) to replace all missing values. You might also try a more complicated procedure where you temporarily remove missing values in order to compute the scaling parameters before re-introducing those missing values and applying imputation. Think about how much missing data you have and what possible effects each approach might have on your analysis, and justify your decision in the discussion section below.\n",
    "- For the actual scaling function, a [StandardScaler](http://scikit-learn.org/stable/modules/generated/sklearn.preprocessing.StandardScaler.html) instance is suggested, scaling each feature to mean 0 and standard deviation 1.\n",
    "- For these classes, you can make use of the `.fit_transform()` method to both fit a procedure to the data as well as apply the transformation to the data at the same time. Don't forget to keep the fit sklearn objects handy, since you'll be applying them to the customer demographics data towards the end of the project."
   ]
  },
  {
   "cell_type": "code",
   "execution_count": 41,
   "metadata": {},
   "outputs": [
    {
     "data": {
      "text/plain": [
       "792675"
      ]
     },
     "execution_count": 41,
     "metadata": {},
     "output_type": "execute_result"
    }
   ],
   "source": [
    "# check NaN values\n",
    "azdias_1.isnull().sum().sum()"
   ]
  },
  {
   "cell_type": "code",
   "execution_count": 44,
   "metadata": {},
   "outputs": [],
   "source": [
    "# Apply feature scaling to the general population demographics data.\n",
    "from sklearn.preprocessing import StandardScaler, Imputer\n",
    "\n",
    "imp= Imputer(missing_values='NaN', strategy='most_frequent')\n",
    "data_imp = imp.fit_transform(azdias_1)\n",
    "scaler = StandardScaler()\n",
    "azdias_sc = scaler.fit_transform(data_imp)"
   ]
  },
  {
   "cell_type": "code",
   "execution_count": 45,
   "metadata": {},
   "outputs": [],
   "source": [
    "azdias_sc = pd.DataFrame(azdias_sc, columns = azdias_1.columns.tolist())"
   ]
  },
  {
   "cell_type": "code",
   "execution_count": 46,
   "metadata": {},
   "outputs": [
    {
     "data": {
      "text/html": [
       "<div>\n",
       "<style scoped>\n",
       "    .dataframe tbody tr th:only-of-type {\n",
       "        vertical-align: middle;\n",
       "    }\n",
       "\n",
       "    .dataframe tbody tr th {\n",
       "        vertical-align: top;\n",
       "    }\n",
       "\n",
       "    .dataframe thead th {\n",
       "        text-align: right;\n",
       "    }\n",
       "</style>\n",
       "<table border=\"1\" class=\"dataframe\">\n",
       "  <thead>\n",
       "    <tr style=\"text-align: right;\">\n",
       "      <th></th>\n",
       "      <th>ALTERSKATEGORIE_GROB</th>\n",
       "      <th>ANREDE_KZ</th>\n",
       "      <th>FINANZ_MINIMALIST</th>\n",
       "      <th>FINANZ_SPARER</th>\n",
       "      <th>FINANZ_VORSORGER</th>\n",
       "      <th>FINANZ_ANLEGER</th>\n",
       "      <th>FINANZ_UNAUFFAELLIGER</th>\n",
       "      <th>FINANZ_HAUSBAUER</th>\n",
       "      <th>GREEN_AVANTGARDE</th>\n",
       "      <th>HEALTH_TYP</th>\n",
       "      <th>...</th>\n",
       "      <th>CAMEO_DEU_2015_8D</th>\n",
       "      <th>CAMEO_DEU_2015_9A</th>\n",
       "      <th>CAMEO_DEU_2015_9B</th>\n",
       "      <th>CAMEO_DEU_2015_9C</th>\n",
       "      <th>CAMEO_DEU_2015_9D</th>\n",
       "      <th>CAMEO_DEU_2015_9E</th>\n",
       "      <th>DECADE</th>\n",
       "      <th>MOVEMENT</th>\n",
       "      <th>WEALTH</th>\n",
       "      <th>LIFE_STAGE</th>\n",
       "    </tr>\n",
       "  </thead>\n",
       "  <tbody>\n",
       "    <tr>\n",
       "      <th>0</th>\n",
       "      <td>-1.766173</td>\n",
       "      <td>0.958121</td>\n",
       "      <td>-1.494463</td>\n",
       "      <td>1.538139</td>\n",
       "      <td>-1.040664</td>\n",
       "      <td>1.466401</td>\n",
       "      <td>0.959974</td>\n",
       "      <td>1.338532</td>\n",
       "      <td>-0.530654</td>\n",
       "      <td>1.010291</td>\n",
       "      <td>...</td>\n",
       "      <td>-0.150111</td>\n",
       "      <td>-0.162625</td>\n",
       "      <td>-0.189607</td>\n",
       "      <td>-0.179893</td>\n",
       "      <td>-0.192884</td>\n",
       "      <td>-0.089706</td>\n",
       "      <td>1.098802</td>\n",
       "      <td>-0.530654</td>\n",
       "      <td>1.175857</td>\n",
       "      <td>-1.249369</td>\n",
       "    </tr>\n",
       "    <tr>\n",
       "      <th>1</th>\n",
       "      <td>0.200733</td>\n",
       "      <td>0.958121</td>\n",
       "      <td>-1.494463</td>\n",
       "      <td>0.864753</td>\n",
       "      <td>-1.766903</td>\n",
       "      <td>-0.570914</td>\n",
       "      <td>0.245238</td>\n",
       "      <td>1.338532</td>\n",
       "      <td>1.884467</td>\n",
       "      <td>1.010291</td>\n",
       "      <td>...</td>\n",
       "      <td>-0.150111</td>\n",
       "      <td>-0.162625</td>\n",
       "      <td>-0.189607</td>\n",
       "      <td>-0.179893</td>\n",
       "      <td>-0.192884</td>\n",
       "      <td>-0.089706</td>\n",
       "      <td>1.098802</td>\n",
       "      <td>1.884467</td>\n",
       "      <td>-0.869590</td>\n",
       "      <td>0.766691</td>\n",
       "    </tr>\n",
       "    <tr>\n",
       "      <th>2</th>\n",
       "      <td>1.184186</td>\n",
       "      <td>0.958121</td>\n",
       "      <td>0.683285</td>\n",
       "      <td>-0.482020</td>\n",
       "      <td>1.138052</td>\n",
       "      <td>-0.570914</td>\n",
       "      <td>-1.184235</td>\n",
       "      <td>-0.792444</td>\n",
       "      <td>-0.530654</td>\n",
       "      <td>-0.311793</td>\n",
       "      <td>...</td>\n",
       "      <td>-0.150111</td>\n",
       "      <td>-0.162625</td>\n",
       "      <td>-0.189607</td>\n",
       "      <td>-0.179893</td>\n",
       "      <td>-0.192884</td>\n",
       "      <td>-0.089706</td>\n",
       "      <td>-0.267171</td>\n",
       "      <td>-0.530654</td>\n",
       "      <td>-1.551406</td>\n",
       "      <td>-0.577349</td>\n",
       "    </tr>\n",
       "    <tr>\n",
       "      <th>3</th>\n",
       "      <td>0.200733</td>\n",
       "      <td>-1.043709</td>\n",
       "      <td>0.683285</td>\n",
       "      <td>0.191366</td>\n",
       "      <td>0.411813</td>\n",
       "      <td>-1.250019</td>\n",
       "      <td>0.245238</td>\n",
       "      <td>-0.792444</td>\n",
       "      <td>-0.530654</td>\n",
       "      <td>1.010291</td>\n",
       "      <td>...</td>\n",
       "      <td>-0.150111</td>\n",
       "      <td>-0.162625</td>\n",
       "      <td>-0.189607</td>\n",
       "      <td>-0.179893</td>\n",
       "      <td>-0.192884</td>\n",
       "      <td>-0.089706</td>\n",
       "      <td>-0.267171</td>\n",
       "      <td>-0.530654</td>\n",
       "      <td>0.494041</td>\n",
       "      <td>0.094671</td>\n",
       "    </tr>\n",
       "    <tr>\n",
       "      <th>4</th>\n",
       "      <td>-1.766173</td>\n",
       "      <td>0.958121</td>\n",
       "      <td>-0.042631</td>\n",
       "      <td>-1.155407</td>\n",
       "      <td>1.138052</td>\n",
       "      <td>-0.570914</td>\n",
       "      <td>-0.469499</td>\n",
       "      <td>1.338532</td>\n",
       "      <td>-0.530654</td>\n",
       "      <td>1.010291</td>\n",
       "      <td>...</td>\n",
       "      <td>-0.150111</td>\n",
       "      <td>-0.162625</td>\n",
       "      <td>-0.189607</td>\n",
       "      <td>-0.179893</td>\n",
       "      <td>-0.192884</td>\n",
       "      <td>-0.089706</td>\n",
       "      <td>-1.633144</td>\n",
       "      <td>-0.530654</td>\n",
       "      <td>1.175857</td>\n",
       "      <td>0.766691</td>\n",
       "    </tr>\n",
       "  </tbody>\n",
       "</table>\n",
       "<p>5 rows × 175 columns</p>\n",
       "</div>"
      ],
      "text/plain": [
       "   ALTERSKATEGORIE_GROB  ANREDE_KZ  FINANZ_MINIMALIST  FINANZ_SPARER  \\\n",
       "0             -1.766173   0.958121          -1.494463       1.538139   \n",
       "1              0.200733   0.958121          -1.494463       0.864753   \n",
       "2              1.184186   0.958121           0.683285      -0.482020   \n",
       "3              0.200733  -1.043709           0.683285       0.191366   \n",
       "4             -1.766173   0.958121          -0.042631      -1.155407   \n",
       "\n",
       "   FINANZ_VORSORGER  FINANZ_ANLEGER  FINANZ_UNAUFFAELLIGER  FINANZ_HAUSBAUER  \\\n",
       "0         -1.040664        1.466401               0.959974          1.338532   \n",
       "1         -1.766903       -0.570914               0.245238          1.338532   \n",
       "2          1.138052       -0.570914              -1.184235         -0.792444   \n",
       "3          0.411813       -1.250019               0.245238         -0.792444   \n",
       "4          1.138052       -0.570914              -0.469499          1.338532   \n",
       "\n",
       "   GREEN_AVANTGARDE  HEALTH_TYP     ...      CAMEO_DEU_2015_8D  \\\n",
       "0         -0.530654    1.010291     ...              -0.150111   \n",
       "1          1.884467    1.010291     ...              -0.150111   \n",
       "2         -0.530654   -0.311793     ...              -0.150111   \n",
       "3         -0.530654    1.010291     ...              -0.150111   \n",
       "4         -0.530654    1.010291     ...              -0.150111   \n",
       "\n",
       "   CAMEO_DEU_2015_9A  CAMEO_DEU_2015_9B  CAMEO_DEU_2015_9C  CAMEO_DEU_2015_9D  \\\n",
       "0          -0.162625          -0.189607          -0.179893          -0.192884   \n",
       "1          -0.162625          -0.189607          -0.179893          -0.192884   \n",
       "2          -0.162625          -0.189607          -0.179893          -0.192884   \n",
       "3          -0.162625          -0.189607          -0.179893          -0.192884   \n",
       "4          -0.162625          -0.189607          -0.179893          -0.192884   \n",
       "\n",
       "   CAMEO_DEU_2015_9E    DECADE  MOVEMENT    WEALTH  LIFE_STAGE  \n",
       "0          -0.089706  1.098802 -0.530654  1.175857   -1.249369  \n",
       "1          -0.089706  1.098802  1.884467 -0.869590    0.766691  \n",
       "2          -0.089706 -0.267171 -0.530654 -1.551406   -0.577349  \n",
       "3          -0.089706 -0.267171 -0.530654  0.494041    0.094671  \n",
       "4          -0.089706 -1.633144 -0.530654  1.175857    0.766691  \n",
       "\n",
       "[5 rows x 175 columns]"
      ]
     },
     "execution_count": 46,
     "metadata": {},
     "output_type": "execute_result"
    }
   ],
   "source": [
    "azdias_sc.head()"
   ]
  },
  {
   "cell_type": "markdown",
   "metadata": {},
   "source": [
    "### Discussion 2.1: Apply Feature Scaling\n",
    "\n",
    "First, as I did in the previous section, I only kept data rows with no missing values. \n",
    "second, I apply StandardScale from sklean.preprocessing to scale each featureto mean 0 and SD 1. "
   ]
  },
  {
   "cell_type": "markdown",
   "metadata": {},
   "source": [
    "### Step 2.2: Perform Dimensionality Reduction\n",
    "\n",
    "We are now ready to apply dimensionality reduction techniques.\n",
    "\n",
    "- Use sklearn's [PCA](http://scikit-learn.org/stable/modules/generated/sklearn.decomposition.PCA.html) class to apply principal component analysis on the data, thus finding the vectors of maximal variance in the data. To start, not set any parameters (so all components are computed) or set a number of components that is at least half the number of features (so there's enough features to see the general trend in variability).\n",
    "- Check out the ratio of variance explained by each principal component as well as the cumulative variance explained. Try plotting the cumulative or sequential values using matplotlib's [`plot()`](https://matplotlib.org/api/_as_gen/matplotlib.pyplot.plot.html) function. Based on the findings, select a value for the number of transformed features we'll retain for the clustering part of the project.\n",
    "- Once the number of components to keep are choosen, make sure to re-fit a PCA instance to perform the decided-on transformation."
   ]
  },
  {
   "cell_type": "code",
   "execution_count": 44,
   "metadata": {},
   "outputs": [
    {
     "data": {
      "text/plain": [
       "PCA(copy=True, iterated_power='auto', n_components=None, random_state=None,\n",
       "  svd_solver='auto', tol=0.0, whiten=False)"
      ]
     },
     "execution_count": 44,
     "metadata": {},
     "output_type": "execute_result"
    }
   ],
   "source": [
    "# Apply PCA to the data.\n",
    "from sklearn.decomposition import PCA\n",
    "pca = PCA()\n",
    "pca.fit(azdias_sc)"
   ]
  },
  {
   "cell_type": "code",
   "execution_count": 45,
   "metadata": {},
   "outputs": [
    {
     "data": {
      "text/plain": [
       "[<matplotlib.lines.Line2D at 0x7efbdbfbea58>]"
      ]
     },
     "execution_count": 45,
     "metadata": {},
     "output_type": "execute_result"
    },
    {
     "data": {
      "image/png": "[encoded data removed]",
      "text/plain": [
       "<matplotlib.figure.Figure at 0x7efbdf239be0>"
      ]
     },
     "metadata": {
      "needs_background": "light"
     },
     "output_type": "display_data"
    }
   ],
   "source": [
    "# Investigate the variance accounted for by each principal component.\n",
    "values = pca.explained_variance_ratio_\n",
    "base = list(range(1,len(pca.explained_variance_ratio_)+1))\n",
    "#evaluate the cumulative\n",
    "cumulative = np.cumsum(values)\n",
    "# plot the cumulative function\n",
    "plt.plot(base, cumulative, c='blue')"
   ]
  },
  {
   "cell_type": "code",
   "execution_count": 48,
   "metadata": {},
   "outputs": [],
   "source": [
    "from sklearn.decomposition import PCA\n",
    "\n",
    "n_comp = len(cumulative[cumulative<0.8])\n",
    "pca_n = PCA(n_components=n_comp)\n",
    "data_pca = pca_n.fit_transform(azdias_sc)"
   ]
  },
  {
   "cell_type": "code",
   "execution_count": 49,
   "metadata": {},
   "outputs": [
    {
     "name": "stdout",
     "output_type": "stream",
     "text": [
      "Number of principal components are retained:  84\n"
     ]
    }
   ],
   "source": [
    "print('Number of principal components are retained: ',n_comp)"
   ]
  },
  {
   "cell_type": "markdown",
   "metadata": {},
   "source": [
    "### Discussion 2.2: Perform Dimensionality Reduction\n",
    "\n",
    "About 50% of the features already covered more than 80% of the explained variences. \n",
    "Therefore, for the next step, I choose to retain 85 principle components. "
   ]
  },
  {
   "cell_type": "markdown",
   "metadata": {},
   "source": [
    "### Step 2.3: Interpret Principal Components\n",
    "\n",
    "Now that we have our transformed principal components, it's a nice idea to check out the weight of each variable on the first few components to see if they can be interpreted in some fashion.\n",
    "\n",
    "As a reminder, each principal component is a unit vector that points in the direction of highest variance (after accounting for the variance captured by earlier principal components). The further a weight is from zero, the more the principal component is in the direction of the corresponding feature. If two features have large weights of the same sign (both positive or both negative), then increases in one tend expect to be associated with increases in the other. To contrast, features with different signs can be expected to show a negative correlation: increases in one variable should result in a decrease in the other.\n",
    "\n",
    "- To investigate the features, we should map each weight to their corresponding feature name, then sort the features according to weight. The most interesting features for each principal component, then, will be those at the beginning and end of the sorted list. Use the data dictionary document to help you understand these most prominent features, their relationships, and what a positive or negative value on the principal component might indicate.\n",
    "- we should investigate and interpret feature associations from the first three principal components in this substep. To help facilitate this, we should write a function that we can call at any time to print the sorted list of feature weights, for the *i*-th principal component. This might come in handy in the next step of the project, when we interpret the tendencies of the discovered clusters."
   ]
  },
  {
   "cell_type": "code",
   "execution_count": 50,
   "metadata": {},
   "outputs": [
    {
     "name": "stdout",
     "output_type": "stream",
     "text": [
      "PLZ8_ANTG3               0.187398\n",
      "HH_EINKOMMEN_SCORE       0.186262\n",
      "WEALTH                   0.181532\n",
      "PLZ8_ANTG4               0.180399\n",
      "ORTSGR_KLS9              0.162928\n",
      "EWDICHTE                 0.160993\n",
      "FINANZ_SPARER            0.146853\n",
      "FINANZ_HAUSBAUER         0.145097\n",
      "FINANZTYP_1              0.134342\n",
      "LP_STATUS_FEIN_2.0       0.131156\n",
      "KBA05_ANTG4              0.130993\n",
      "PLZ8_ANTG2               0.129274\n",
      "KBA05_ANTG3              0.119019\n",
      "ANZ_HAUSHALTE_AKTIV      0.117387\n",
      "LP_STATUS_FEIN_1.0       0.116965\n",
      "ARBEIT                   0.116830\n",
      "SEMIO_PFLICHT            0.112709\n",
      "RELAT_AB                 0.111307\n",
      "DECADE                   0.108993\n",
      "SEMIO_REL                0.108480\n",
      "SEMIO_RAT                0.094159\n",
      "ZABEOTYP_5               0.090754\n",
      "SEMIO_TRADV              0.087409\n",
      "LP_FAMILIE_FEIN_1.0      0.084165\n",
      "FINANZ_UNAUFFAELLIGER    0.081431\n",
      "FINANZ_ANLEGER           0.079086\n",
      "SEMIO_MAT                0.073372\n",
      "GEBAEUDETYP_3.0          0.070747\n",
      "SEMIO_FAM                0.069578\n",
      "GFK_URLAUBERTYP_12.0     0.066169\n",
      "                           ...   \n",
      "CAMEO_DEU_2015_2D       -0.048180\n",
      "CJT_GESAMTTYP_2.0       -0.059385\n",
      "KBA13_ANZAHL_PKW        -0.059474\n",
      "WOHNDAUER_2008          -0.061608\n",
      "WOHNLAGE                -0.066885\n",
      "SEMIO_ERL               -0.070338\n",
      "SEMIO_LUST              -0.071418\n",
      "NATIONALITAET_KZ_1.0    -0.079754\n",
      "ANZ_PERSONEN            -0.082487\n",
      "GEBAEUDETYP_1.0         -0.093164\n",
      "FINANZTYP_2             -0.093316\n",
      "ZABEOTYP_1              -0.094496\n",
      "GEBAEUDETYP_RASTER      -0.101679\n",
      "BALLRAUM                -0.103201\n",
      "GREEN_AVANTGARDE        -0.103516\n",
      "MOVEMENT                -0.103516\n",
      "LIFE_STAGE              -0.113480\n",
      "FINANZ_VORSORGER        -0.114333\n",
      "LP_STATUS_FEIN_9.0      -0.114725\n",
      "ALTERSKATEGORIE_GROB    -0.115977\n",
      "LP_STATUS_FEIN_10.0     -0.116749\n",
      "LP_LEBENSPHASE_GROB     -0.120132\n",
      "INNENSTADT              -0.134444\n",
      "PLZ8_GBZ                -0.135905\n",
      "KONSUMNAEHE             -0.141937\n",
      "KBA05_GBZ               -0.184603\n",
      "KBA05_ANTG1             -0.184795\n",
      "PLZ8_ANTG1              -0.187753\n",
      "MOBI_REGIO              -0.193034\n",
      "FINANZ_MINIMALIST       -0.209977\n",
      "Name: 0, Length: 175, dtype: float64\n"
     ]
    }
   ],
   "source": [
    "# Map weights for the first principal component to corresponding feature names\n",
    "# and then print the linked values, sorted by weight.\n",
    "# HINT: Try defining a function here or in a new cell that you can reuse in the\n",
    "# other cells.\n",
    "def PCA_weights(df,pca,n):\n",
    "    weights = pd.DataFrame(pca.components_, columns = df.columns.tolist())\n",
    "    weights_n = weights.loc[n]\n",
    "    weights_n.sort_values(ascending=False, inplace=True)\n",
    "    return weights_n\n",
    "\n",
    "print(PCA_weights(azdias_sc,pca_n,0))"
   ]
  },
  {
   "cell_type": "code",
   "execution_count": 51,
   "metadata": {},
   "outputs": [
    {
     "name": "stdout",
     "output_type": "stream",
     "text": [
      "ALTERSKATEGORIE_GROB     0.221605\n",
      "FINANZ_VORSORGER         0.207418\n",
      "ZABEOTYP_3               0.198937\n",
      "SEMIO_ERL                0.176871\n",
      "SEMIO_LUST               0.156430\n",
      "RETOURTYP_BK_S           0.153892\n",
      "W_KEIT_KIND_HH           0.123539\n",
      "LP_STATUS_FEIN_1.0       0.114855\n",
      "FINANZ_HAUSBAUER         0.109126\n",
      "CJT_GESAMTTYP_2.0        0.101608\n",
      "FINANZTYP_5              0.100280\n",
      "PLZ8_ANTG3               0.094090\n",
      "EWDICHTE                 0.091930\n",
      "PLZ8_ANTG4               0.091457\n",
      "ORTSGR_KLS9              0.091334\n",
      "WEALTH                   0.082283\n",
      "FINANZTYP_2              0.079838\n",
      "SEMIO_KRIT               0.078728\n",
      "KBA05_ANTG4              0.072309\n",
      "SHOPPER_TYP_3.0          0.071404\n",
      "SEMIO_KAEM               0.069070\n",
      "ARBEIT                   0.068549\n",
      "CJT_GESAMTTYP_1.0        0.068286\n",
      "LP_FAMILIE_FEIN_1.0      0.066693\n",
      "PLZ8_ANTG2               0.066277\n",
      "HH_EINKOMMEN_SCORE       0.065825\n",
      "ANZ_HAUSHALTE_AKTIV      0.065286\n",
      "RELAT_AB                 0.065187\n",
      "FINANZTYP_6              0.063308\n",
      "GFK_URLAUBERTYP_4.0      0.061233\n",
      "                           ...   \n",
      "LP_LEBENSPHASE_GROB     -0.061980\n",
      "PLZ8_GBZ                -0.070687\n",
      "GFK_URLAUBERTYP_9.0     -0.071894\n",
      "KONSUMNAEHE             -0.073543\n",
      "INNENSTADT              -0.073651\n",
      "KBA05_ANTG1             -0.074225\n",
      "ANZ_PERSONEN            -0.075072\n",
      "ZABEOTYP_1              -0.075938\n",
      "LP_STATUS_FEIN_2.0      -0.077178\n",
      "MOBI_REGIO              -0.079838\n",
      "ZABEOTYP_5              -0.080188\n",
      "LP_STATUS_FEIN_5.0      -0.083353\n",
      "FINANZTYP_3             -0.083503\n",
      "FINANZTYP_4             -0.088136\n",
      "KBA05_GBZ               -0.089590\n",
      "PLZ8_ANTG1              -0.092668\n",
      "ZABEOTYP_4              -0.099031\n",
      "FINANZTYP_1             -0.115436\n",
      "SEMIO_MAT               -0.124177\n",
      "SEMIO_FAM               -0.130950\n",
      "SEMIO_RAT               -0.157105\n",
      "SEMIO_KULT              -0.162866\n",
      "ONLINE_AFFINITAET       -0.166900\n",
      "SEMIO_PFLICHT           -0.194695\n",
      "FINANZ_ANLEGER          -0.196938\n",
      "SEMIO_TRADV             -0.199914\n",
      "SEMIO_REL               -0.206402\n",
      "FINANZ_UNAUFFAELLIGER   -0.207946\n",
      "FINANZ_SPARER           -0.211128\n",
      "DECADE                  -0.219366\n",
      "Name: 1, Length: 175, dtype: float64\n"
     ]
    }
   ],
   "source": [
    "# Map weights for the second principal component to corresponding feature names\n",
    "# and then print the linked values, sorted by weight.\n",
    "print(PCA_weights(azdias_sc,pca_n,1))"
   ]
  },
  {
   "cell_type": "code",
   "execution_count": 52,
   "metadata": {},
   "outputs": [
    {
     "name": "stdout",
     "output_type": "stream",
     "text": [
      "SEMIO_VERT               0.322518\n",
      "SEMIO_FAM                0.260686\n",
      "SEMIO_SOZ                0.258023\n",
      "SEMIO_KULT               0.250966\n",
      "FINANZTYP_5              0.138014\n",
      "FINANZ_MINIMALIST        0.130118\n",
      "SHOPPER_TYP_0.0          0.123757\n",
      "ZABEOTYP_1               0.113811\n",
      "SEMIO_REL                0.109717\n",
      "SEMIO_MAT                0.087687\n",
      "RETOURTYP_BK_S           0.078039\n",
      "MOVEMENT                 0.066906\n",
      "GREEN_AVANTGARDE         0.066906\n",
      "ORTSGR_KLS9              0.062006\n",
      "W_KEIT_KIND_HH           0.061502\n",
      "EWDICHTE                 0.061479\n",
      "SHOPPER_TYP_1.0          0.055343\n",
      "FINANZ_VORSORGER         0.052570\n",
      "ZABEOTYP_6               0.051200\n",
      "LP_STATUS_FEIN_3.0       0.050669\n",
      "PLZ8_ANTG3               0.048087\n",
      "PLZ8_ANTG4               0.047621\n",
      "LP_STATUS_FEIN_1.0       0.046437\n",
      "LP_STATUS_FEIN_10.0      0.042547\n",
      "PLZ8_ANTG2               0.035713\n",
      "RELAT_AB                 0.034967\n",
      "ARBEIT                   0.033763\n",
      "GFK_URLAUBERTYP_4.0      0.029443\n",
      "NATIONALITAET_KZ_2.0     0.028944\n",
      "GEBAEUDETYP_3.0          0.028115\n",
      "                           ...   \n",
      "CJT_GESAMTTYP_6.0       -0.030089\n",
      "NATIONALITAET_KZ_3.0    -0.031150\n",
      "HH_EINKOMMEN_SCORE      -0.031249\n",
      "ZABEOTYP_3              -0.031868\n",
      "PLZ8_GBZ                -0.033704\n",
      "LP_FAMILIE_FEIN_4.0     -0.033903\n",
      "KKK                     -0.036220\n",
      "GEBAEUDETYP_RASTER      -0.038451\n",
      "WOHNLAGE                -0.039006\n",
      "PLZ8_ANTG1              -0.046028\n",
      "KONSUMNAEHE             -0.046834\n",
      "BALLRAUM                -0.048517\n",
      "FINANZ_UNAUFFAELLIGER   -0.051915\n",
      "SHOPPER_TYP_3.0         -0.052363\n",
      "INNENSTADT              -0.054636\n",
      "FINANZ_HAUSBAUER        -0.057775\n",
      "DECADE                  -0.060630\n",
      "FINANZ_SPARER           -0.060824\n",
      "ZABEOTYP_4              -0.063932\n",
      "LP_STATUS_FEIN_4.0      -0.067851\n",
      "LP_STATUS_FEIN_2.0      -0.083171\n",
      "SHOPPER_TYP_2.0         -0.094034\n",
      "FINANZTYP_1             -0.103687\n",
      "FINANZ_ANLEGER          -0.157350\n",
      "SEMIO_RAT               -0.160212\n",
      "SEMIO_ERL               -0.206477\n",
      "SEMIO_KRIT              -0.268655\n",
      "SEMIO_DOM               -0.287353\n",
      "SEMIO_KAEM              -0.318474\n",
      "ANREDE_KZ               -0.348284\n",
      "Name: 2, Length: 175, dtype: float64\n"
     ]
    }
   ],
   "source": [
    "# Map weights for the third principal component to corresponding feature names\n",
    "# and then print the linked values, sorted by weight.\n",
    "print(PCA_weights(azdias_sc,pca_n,2))\n"
   ]
  },
  {
   "cell_type": "markdown",
   "metadata": {},
   "source": [
    "### Discussion 2.3: Interpret Principal Components\n",
    "\n",
    " Investigation of the first few principal components generated. \n",
    "\n",
    "1. the first principle component:<br>\n",
    "PLZ8_ANTG3               0.187398; Number of 6-10 family houses in the PLZ8 region<br>\n",
    "HH_EINKOMMEN_SCORE       0.186262; Estimated household net income <br>\n",
    "WEALTH                   0.181532; Wealth<br>\n",
    "PLZ8_ANTG4               0.180399; Number of 10+ family houses in the PLZ8 region <br>\n",
    "KBA05_ANTG1             -0.184795; Number of 1-2 family houses in the microcell<br>\n",
    "PLZ8_ANTG1              -0.187753; Number of 1-2 family houses in the PLZ8 region<br>\n",
    "MOBI_REGIO              -0.193034; Movement patterns<br>\n",
    "FINANZ_MINIMALIST       -0.209977; low financial interest<br>\n",
    "\n",
    "Based on those top positive and negative values, we notice that the first principle component is related to household fixed assets: income, wealth, real estate. \n",
    "\n",
    "2. the second principle component: <br>\n",
    "ALTERSKATEGORIE_GROB     0.221605; Estimated age based on given name analysis<br>\n",
    "FINANZ_VORSORGER         0.207418; be prepared financial typology <br>\n",
    "ZABEOTYP_3               0.198937; Energy consumption typology, fair supplied<br>\n",
    "SEMIO_ERL                0.176871; event-oriented personality <br>\n",
    "SEMIO_REL               -0.206402; religious perconality <br>\n",
    "FINANZ_UNAUFFAELLIGER   -0.207946; inconspicuous financial typology <br>\n",
    "FINANZ_SPARER           -0.211128; money-saver <br>\n",
    "DECADE                  -0.219366; born decade <br>\n",
    "\n",
    "Based on those top positive and negative values, we notice that the second principle component is related to individual characters:  age, financial typology and personality.\n",
    "\n",
    "3. the third principle component: <br>\n",
    "SEMIO_VERT               0.322518; dreamful personality  <br>\n",
    "SEMIO_FAM                0.260686; family-minded personality <br>\n",
    "SEMIO_SOZ                0.258023; socially-minded personality <br>\n",
    "SEMIO_KULT               0.250966; cultural-minded personality <br>\n",
    "SEMIO_KRIT              -0.268655; critical-minded personality <br>\n",
    "SEMIO_DOM               -0.287353; dominant-minded personality <br>\n",
    "SEMIO_KAEM              -0.318474; combative attitude personality <br>\n",
    "ANREDE_KZ               -0.348284; Gender, 1_male, 2_female<br>\n",
    "\n",
    "Based on those top positive and negative values, we notice that the third principle component is related to personality and gender. Especially the PC is positively corelated to dreamful, family-minded, socially-minded, cultural-minded personality and male gender.  \n"
   ]
  },
  {
   "cell_type": "markdown",
   "metadata": {},
   "source": [
    "## Step 3: Clustering\n",
    "\n",
    "### Step 3.1: Apply Clustering to General Population\n",
    "\n",
    "I've assessed and cleaned the demographics data, then scaled and transformed them. Now, it's time to see how the data clusters in the principal components space. In this substep, I will apply k-means clustering to the dataset and use the average within-cluster distances from each point to their assigned cluster's centroid to decide on a number of clusters to keep.\n",
    "\n",
    "- Use sklearn's [KMeans](http://scikit-learn.org/stable/modules/generated/sklearn.cluster.KMeans.html#sklearn.cluster.KMeans) class to perform k-means clustering on the PCA-transformed data.\n",
    "- Then, compute the average difference from each point to its assigned cluster's center. **Hint**: The KMeans object's `.score()` method might be useful here, but note that in sklearn, scores tend to be defined so that larger is better. Try applying it to a small, toy dataset, or use an internet search to help your understanding.\n",
    "- Perform the above two steps for a number of different cluster counts. Check how the average distance decreases with an increasing number of clusters. However, each additional cluster provides a smaller net benefit. Use this fact to select a final number of clusters in which to group the data. **Warning**: because of the large size of the dataset, it can take a long time for the algorithm to resolve. The more clusters to fit, the longer the algorithm will take. We will test for cluster counts through at least 10 clusters to get the full picture, but we shouldn't need to test for a number of clusters above about 30.\n",
    "- Once selected a final number of clusters to use, re-fit a KMeans instance to perform the clustering operation. "
   ]
  },
  {
   "cell_type": "code",
   "execution_count": 51,
   "metadata": {},
   "outputs": [],
   "source": [
    "# Over a number of different cluster counts...\n",
    "from sklearn.cluster import KMeans \n",
    "cluster_n = list(range(5,30,5))\n",
    "score = []\n",
    "for i in cluster_n:\n",
    "    # run k-means clustering on the data and...\n",
    "    kmeans = KMeans(n_clusters=i)\n",
    "    model = kmeans.fit(data_pca)\n",
    "    # compute the average within-cluster distances.\n",
    "    score.append(np.abs(model.score(data_pca)))"
   ]
  },
  {
   "cell_type": "code",
   "execution_count": 53,
   "metadata": {},
   "outputs": [
    {
     "data": {
      "image/png": "[encoded data removed]",
      "text/plain": [
       "<matplotlib.figure.Figure at 0x7f83d8ef1d30>"
      ]
     },
     "metadata": {
      "needs_background": "light"
     },
     "output_type": "display_data"
    }
   ],
   "source": [
    "# Investigate the change in within-cluster distance across number of clusters.\n",
    "# HINT: Use matplotlib's plot function to visualize this relationship.\n",
    "%matplotlib inline\n",
    "plt.figure\n",
    "plt.plot(cluster_n, score, linestyle='--', marker='*')\n",
    "plt.xlabel('number of clusters')\n",
    "plt.ylabel('average within-cluster distance')\n",
    "plt.title(\"within-cluster distance vs. number of clusters.\")\n",
    "plt.show()"
   ]
  },
  {
   "cell_type": "code",
   "execution_count": 57,
   "metadata": {},
   "outputs": [
    {
     "data": {
      "image/png": "[encoded data removed]",
      "text/plain": [
       "<matplotlib.figure.Figure at 0x7f83d8f556d8>"
      ]
     },
     "metadata": {
      "needs_background": "light"
     },
     "output_type": "display_data"
    }
   ],
   "source": [
    "# another try\n",
    "cluster_n = [5, 12, 14, 16, 18, 20, 24, 28]\n",
    "score = []\n",
    "for i in cluster_n:\n",
    "    # run k-means clustering on the data and...\n",
    "    kmeans = KMeans(n_clusters=i)\n",
    "    model = kmeans.fit(data_pca)\n",
    "    # compute the average within-cluster distances.\n",
    "    score.append(np.abs(model.score(data_pca)))\n",
    "\n",
    "plt.figure\n",
    "plt.plot(cluster_n, score, linestyle='--', marker='*')\n",
    "plt.xlabel('number of clusters')\n",
    "plt.ylabel('average within-cluster distance')\n",
    "plt.title(\"within-cluster distance vs. number of clusters.\")\n",
    "plt.show()"
   ]
  },
  {
   "cell_type": "code",
   "execution_count": 64,
   "metadata": {},
   "outputs": [
    {
     "data": {
      "image/png": "[encoded data removed]",
      "text/plain": [
       "<matplotlib.figure.Figure at 0x7f8358121cf8>"
      ]
     },
     "metadata": {
      "needs_background": "light"
     },
     "output_type": "display_data"
    }
   ],
   "source": [
    "cluster_n1 = [2, 3, 4]\n",
    "score1 = []\n",
    "for i in cluster_n1:\n",
    "    # run k-means clustering on the data and...\n",
    "    kmeans = KMeans(n_clusters=i)\n",
    "    model = kmeans.fit(data_pca)\n",
    "    # compute the average within-cluster distances.\n",
    "    score1.append(np.abs(model.score(data_pca)))\n",
    "    \n",
    "#cluster_n = cluster_n1.append(cluster_n)\n",
    "#score = score1.append(score)\n",
    "\n",
    "plt.figure\n",
    "plt.plot(cluster_n1, score1, linestyle='--', marker='*')\n",
    "plt.xlabel('number of clusters')\n",
    "plt.ylabel('average within-cluster distance')\n",
    "plt.title(\"within-cluster distance vs. number of clusters.\")\n",
    "plt.show()"
   ]
  },
  {
   "cell_type": "code",
   "execution_count": 66,
   "metadata": {},
   "outputs": [
    {
     "data": {
      "image/png": "[encoded data removed]",
      "text/plain": [
       "<matplotlib.figure.Figure at 0x7f8358059438>"
      ]
     },
     "metadata": {
      "needs_background": "light"
     },
     "output_type": "display_data"
    }
   ],
   "source": [
    "K = [2, 3, 4, 5, 10, 12, 14, 15, 16, 18, 20, 24, 28]\n",
    "D = [7.82, 7.45, 7.24, 7.1, 6.65, 6.55, 6.5, 6.43, 6.4, 6.3, 6.25, 6.1, 6.0]\n",
    "plt.plot(K, D, linestyle='--', marker='*')\n",
    "plt.grid()\n",
    "plt.show()"
   ]
  },
  {
   "cell_type": "code",
   "execution_count": 53,
   "metadata": {},
   "outputs": [],
   "source": [
    "# Re-fit the k-means model with the selected number of clusters and obtain\n",
    "# cluster predictions for the general population demographics data.\n",
    "from sklearn.cluster import KMeans \n",
    "K_selected = 10\n",
    "kmeans = KMeans(n_clusters=K_selected)\n",
    "model = kmeans.fit(data_pca)\n",
    "data_pred = model.predict(data_pca)"
   ]
  },
  {
   "cell_type": "markdown",
   "metadata": {},
   "source": [
    "### Discussion 3.1: Apply Clustering to General Population\n",
    "\n",
    "As the number of clusters increases, the average within-cluster distance decreases. \n",
    "I start with a list of K range from 5 to 30 with a step of 5, to get a rough look of the relationship between K and within-cluster distance. The plot looks like a arm. It drop fast for low K and slower when K increases. <br>\n",
    "The \"elbow\" on the arm is the value of k that is the best. To get a fine look of this relationship, I redo the plot with smaller steps.  \n",
    "Then I choose the \"elbow\" point to be 10.\n"
   ]
  },
  {
   "cell_type": "markdown",
   "metadata": {},
   "source": [
    "### Step 3.2: Apply All Steps to the Customer Data\n",
    "\n",
    "Now, it's time to see how the customer data maps on to those clusters. We're going to use the fits from the general population to clean, transform, and cluster the customer data. In the last step of the project, I will interpret how the general population fits apply to the customer data.\n",
    "\n",
    "- Apply the same feature wrangling, selection, and engineering steps to the customer demographics using the `clean_data()` function created earlier. \n",
    "- Use the sklearn objects from the general demographics data, and apply their transformations to the customers data. Carry the data through the feature scaling, PCA, and clustering steps, obtaining cluster assignments for all of the data in the customer demographics data."
   ]
  },
  {
   "cell_type": "code",
   "execution_count": 54,
   "metadata": {},
   "outputs": [],
   "source": [
    "# Load in the customer demographics data.\n",
    "customers = pd.read_csv('Udacity_CUSTOMERS_Subset.csv', sep=';')\n",
    "feat_info = pd.read_csv('AZDIAS_Feature_Summary.csv', sep=';')"
   ]
  },
  {
   "cell_type": "code",
   "execution_count": 55,
   "metadata": {},
   "outputs": [
    {
     "data": {
      "text/plain": [
       "(191652, 85)"
      ]
     },
     "execution_count": 55,
     "metadata": {},
     "output_type": "execute_result"
    }
   ],
   "source": [
    "customers.shape"
   ]
  },
  {
   "cell_type": "code",
   "execution_count": 56,
   "metadata": {
    "scrolled": true
   },
   "outputs": [
    {
     "name": "stderr",
     "output_type": "stream",
     "text": [
      "/opt/conda/lib/python3.6/site-packages/pandas/core/generic.py:5890: SettingWithCopyWarning: \n",
      "A value is trying to be set on a copy of a slice from a DataFrame\n",
      "\n",
      "See the caveats in the documentation: http://pandas.pydata.org/pandas-docs/stable/indexing.html#indexing-view-versus-copy\n",
      "  self._update_inplace(new_data)\n",
      "/opt/conda/lib/python3.6/site-packages/pandas/core/frame.py:3697: SettingWithCopyWarning: \n",
      "A value is trying to be set on a copy of a slice from a DataFrame\n",
      "\n",
      "See the caveats in the documentation: http://pandas.pydata.org/pandas-docs/stable/indexing.html#indexing-view-versus-copy\n",
      "  errors=errors)\n"
     ]
    }
   ],
   "source": [
    "# Apply preprocessing, feature transformation, and clustering from the general\n",
    "# demographics onto the customer data, obtaining cluster predictions for the\n",
    "# customer demographics data.\n",
    "# preprocessing\n",
    "customers_processed = clean_data(customers,feat_info,outlier_col)"
   ]
  },
  {
   "cell_type": "code",
   "execution_count": 57,
   "metadata": {},
   "outputs": [
    {
     "name": "stdout",
     "output_type": "stream",
     "text": [
      "111709\n",
      "(141590, 174)\n",
      "Index(['ALTER_HH', 'GEBURTSJAHR', 'KBA05_BAUMAX', 'KK_KUNDENTYP', 'AGER_TYP',\n",
      "       'TITEL_KZ'],\n",
      "      dtype='object')\n"
     ]
    }
   ],
   "source": [
    "print(customers_processed.isnull().sum().sum())\n",
    "print(customers_processed.shape)\n",
    "print(outlier_col)"
   ]
  },
  {
   "cell_type": "code",
   "execution_count": 58,
   "metadata": {},
   "outputs": [
    {
     "data": {
      "text/plain": [
       "['GEBAEUDETYP_5.0']"
      ]
     },
     "execution_count": 58,
     "metadata": {},
     "output_type": "execute_result"
    }
   ],
   "source": [
    "list(set(azdias_1)-set(customers_processed))"
   ]
  },
  {
   "cell_type": "code",
   "execution_count": 60,
   "metadata": {},
   "outputs": [
    {
     "data": {
      "text/plain": [
       "array([0, 1], dtype=uint64)"
      ]
     },
     "execution_count": 60,
     "metadata": {},
     "output_type": "execute_result"
    }
   ],
   "source": [
    "customers_processed['GEBAEUDETYP_4.0'].unique()"
   ]
  },
  {
   "cell_type": "code",
   "execution_count": 61,
   "metadata": {},
   "outputs": [],
   "source": [
    "customers_processed['GEBAEUDETYP_5.0'] = customers_processed['GEBAEUDETYP_4.0']\n",
    "customers_processed['GEBAEUDETYP_5.0'].replace(1,0,inplace=True)"
   ]
  },
  {
   "cell_type": "code",
   "execution_count": 62,
   "metadata": {},
   "outputs": [],
   "source": [
    "# scaling\n",
    "customers_imp = imp.transform(customers_processed)\n",
    "customers_sc = scaler.transform(customers_imp)\n",
    "customers_sc = pd.DataFrame(customers_sc, columns = customers_processed.columns.tolist())\n",
    "# feature transformation\n",
    "customers_pca = pca_n.transform(customers_sc)\n",
    "# clustering\n",
    "customers_pred = model.predict(customers_pca)"
   ]
  },
  {
   "cell_type": "markdown",
   "metadata": {},
   "source": [
    "### Step 3.3: Compare Customer Data to Demographics Data\n",
    "\n",
    "At this point, I have clustered data based on demographics of the general population of Germany, and seen how the customer data for a mail-order sales company maps onto those demographic clusters. In this final substep, I will compare the two cluster distributions to see where the strongest customer base for the company is.\n",
    "\n",
    "Consider the proportion of persons in each cluster for the general population, and the proportions for the customers. If we think the company's customer base to be universal, then the cluster assignment proportions should be fairly similar between the two. If there are only particular segments of the population that are interested in the company's products, then we should see a mismatch from one to the other. If there is a higher proportion of persons in a cluster for the customer data compared to the general population (e.g. 5% of persons are assigned to a cluster for the general population, but 15% of the customer data is closest to that cluster's centroid) then that suggests the people in that cluster to be a target audience for the company. On the other hand, the proportion of the data in a cluster being larger in the general population than the customer data (e.g. only 2% of customers closest to a population centroid that captures 6% of the data) suggests that group of persons to be outside of the target demographics.\n",
    "\n",
    "Take a look at the following points in this step:\n",
    "\n",
    "- Compute the proportion of data points in each cluster for the general population and the customer data. Visualizations will be useful here: both for the individual dataset proportions, but also to visualize the ratios in cluster representation between groups. Seaborn's [`countplot()`](https://seaborn.pydata.org/generated/seaborn.countplot.html) or [`barplot()`](https://seaborn.pydata.org/generated/seaborn.barplot.html) function could be handy.\n",
    "  - Recall the analysis you performed in step 1.1.3 of the project, where you separated out certain data points from the dataset if they had more than a specified threshold of missing values. If you found that this group was qualitatively different from the main bulk of the data, you should treat this as an additional data cluster in this analysis. Make sure that you account for the number of data points in this subset, for both the general population and customer datasets, when making your computations!\n",
    "- Which cluster or clusters are overrepresented in the customer dataset compared to the general population? Select at least one such cluster and infer what kind of people might be represented by that cluster. Use the principal component interpretations from step 2.3 or look at additional components to help you make this inference. Alternatively, you can use the `.inverse_transform()` method of the PCA and StandardScaler objects to transform centroids back to the original data space and interpret the retrieved values directly.\n",
    "- Perform a similar investigation for the underrepresented clusters. Which cluster or clusters are underrepresented in the customer dataset compared to the general population, and what kinds of people are typified by these clusters?"
   ]
  },
  {
   "cell_type": "code",
   "execution_count": 63,
   "metadata": {},
   "outputs": [
    {
     "data": {
      "image/png": "[encoded data removed]",
      "text/plain": [
       "<matplotlib.figure.Figure at 0x7fc693688400>"
      ]
     },
     "metadata": {
      "needs_background": "light"
     },
     "output_type": "display_data"
    }
   ],
   "source": [
    "# Compare the proportion of data in each cluster for the customer data to the\n",
    "# proportion of data in each cluster for the general population.\n",
    "fig, (ax1, ax2) = plt.subplots(1, 2)\n",
    "fig.set_figwidth(15)\n",
    "sns.countplot(customers_pred,ax=ax1)\n",
    "ax1.set_title('customer data')\n",
    "ax1.set_xlabel('clusters')\n",
    "sns.countplot(data_pred,ax=ax2)\n",
    "ax2.set_title('general population')\n",
    "ax2.set_xlabel('clusters')\n",
    "plt.show()"
   ]
  },
  {
   "cell_type": "code",
   "execution_count": 68,
   "metadata": {},
   "outputs": [
    {
     "data": {
      "text/plain": [
       "[<matplotlib.lines.Line2D at 0x7fc6932d1908>]"
      ]
     },
     "execution_count": 68,
     "metadata": {},
     "output_type": "execute_result"
    },
    {
     "data": {
      "image/png": "[encoded data removed]",
      "text/plain": [
       "<matplotlib.figure.Figure at 0x7fc6930b9e80>"
      ]
     },
     "metadata": {
      "needs_background": "light"
     },
     "output_type": "display_data"
    }
   ],
   "source": [
    "# plot proportion \n",
    "fig, (ax1, ax2) = plt.subplots(1, 2)\n",
    "fig.set_figwidth(15)\n",
    "df1 = pd.DataFrame(customers_pred,columns=['clusters'])\n",
    "sns.barplot(x=\"clusters\", y=\"clusters\", data=df1, estimator=lambda x: len(x) / len(df1) * 100,ax=ax1)\n",
    "ax1.set(ylabel=\"Percent\")\n",
    "ax1.set_title('customer data')\n",
    "ax1.set_ylim([0,41])\n",
    "ax1.plot([0,9],[10,10],linestyle='-')\n",
    "df2 = pd.DataFrame(data_pred,columns=['clusters'])\n",
    "sns.barplot(x=\"clusters\", y=\"clusters\", data=df2, estimator=lambda x: len(x) / len(df2) * 100,ax=ax2)\n",
    "ax2.set(ylabel=\"Percent\")\n",
    "ax2.set_title('general population')\n",
    "ax2.set_ylim([0,41])\n",
    "ax2.plot([0,9],[10,10],linestyle='-')"
   ]
  },
  {
   "cell_type": "code",
   "execution_count": 69,
   "metadata": {},
   "outputs": [
    {
     "name": "stdout",
     "output_type": "stream",
     "text": [
      "[-4.2820511   0.6905871   0.76649178]\n",
      "[-3.59290863 -0.06589233  1.59360487]\n",
      "[ 1.63949165  4.53440165 -1.69444316]\n"
     ]
    }
   ],
   "source": [
    "# What kinds of people are part of a cluster that is overrepresented in the\n",
    "# customer data compared to the general population?\n",
    "cluster_n1 = [0,1,6]\n",
    "pca_feature = ['high_fixed_assets','old_prepared','male_FSCminded'] # features for the first 3 PC\n",
    "for i in cluster_n1:\n",
    "    print(model.cluster_centers_[i][:3])"
   ]
  },
  {
   "cell_type": "code",
   "execution_count": 71,
   "metadata": {},
   "outputs": [
    {
     "name": "stdout",
     "output_type": "stream",
     "text": [
      "[-0.21397167 -3.56719367 -2.88650179]\n",
      "[-0.91802669 -4.97204273  2.57892758]\n",
      "[ 4.71124431 -2.31939477  2.75184292]\n",
      "[ 5.04440452 -1.36147747 -2.37666921]\n",
      "['high_fixed_assets', 'old_prepared', 'male_FSCminded']\n"
     ]
    }
   ],
   "source": [
    "# What kinds of people are part of a cluster that is underrepresented in the\n",
    "# customer data compared to the general population?\n",
    "cluster_n2 = [2,3,4,8]\n",
    "for i in cluster_n2:\n",
    "    print(model.cluster_centers_[i][:3])\n",
    "print(pca_feature)"
   ]
  },
  {
   "cell_type": "code",
   "execution_count": 74,
   "metadata": {},
   "outputs": [
    {
     "data": {
      "text/html": [
       "<div>\n",
       "<style scoped>\n",
       "    .dataframe tbody tr th:only-of-type {\n",
       "        vertical-align: middle;\n",
       "    }\n",
       "\n",
       "    .dataframe tbody tr th {\n",
       "        vertical-align: top;\n",
       "    }\n",
       "\n",
       "    .dataframe thead th {\n",
       "        text-align: right;\n",
       "    }\n",
       "</style>\n",
       "<table border=\"1\" class=\"dataframe\">\n",
       "  <thead>\n",
       "    <tr style=\"text-align: right;\">\n",
       "      <th></th>\n",
       "      <th>ALTERSKATEGORIE_GROB</th>\n",
       "      <th>ANREDE_KZ</th>\n",
       "      <th>FINANZ_MINIMALIST</th>\n",
       "      <th>FINANZ_SPARER</th>\n",
       "      <th>FINANZ_VORSORGER</th>\n",
       "      <th>FINANZ_ANLEGER</th>\n",
       "      <th>FINANZ_UNAUFFAELLIGER</th>\n",
       "      <th>FINANZ_HAUSBAUER</th>\n",
       "      <th>GREEN_AVANTGARDE</th>\n",
       "      <th>HEALTH_TYP</th>\n",
       "      <th>...</th>\n",
       "      <th>CAMEO_DEU_2015_9A</th>\n",
       "      <th>CAMEO_DEU_2015_9B</th>\n",
       "      <th>CAMEO_DEU_2015_9C</th>\n",
       "      <th>CAMEO_DEU_2015_9D</th>\n",
       "      <th>CAMEO_DEU_2015_9E</th>\n",
       "      <th>DECADE</th>\n",
       "      <th>MOVEMENT</th>\n",
       "      <th>WEALTH</th>\n",
       "      <th>LIFE_STAGE</th>\n",
       "      <th>GEBAEUDETYP_5.0</th>\n",
       "    </tr>\n",
       "  </thead>\n",
       "  <tbody>\n",
       "    <tr>\n",
       "      <th>0</th>\n",
       "      <td>3.366457</td>\n",
       "      <td>1.493546</td>\n",
       "      <td>4.530389</td>\n",
       "      <td>1.582840</td>\n",
       "      <td>4.293299</td>\n",
       "      <td>1.749908</td>\n",
       "      <td>2.061209</td>\n",
       "      <td>2.201430</td>\n",
       "      <td>0.998740</td>\n",
       "      <td>2.078279</td>\n",
       "      <td>...</td>\n",
       "      <td>0.005637</td>\n",
       "      <td>0.003095</td>\n",
       "      <td>0.004479</td>\n",
       "      <td>0.004934</td>\n",
       "      <td>0.007367</td>\n",
       "      <td>-0.002058</td>\n",
       "      <td>3.515662</td>\n",
       "      <td>1.998740</td>\n",
       "      <td>2.006111</td>\n",
       "      <td>3.656974</td>\n",
       "    </tr>\n",
       "    <tr>\n",
       "      <th>1</th>\n",
       "      <td>3.274828</td>\n",
       "      <td>1.109884</td>\n",
       "      <td>4.504057</td>\n",
       "      <td>1.725976</td>\n",
       "      <td>4.264812</td>\n",
       "      <td>2.260088</td>\n",
       "      <td>1.755494</td>\n",
       "      <td>2.284091</td>\n",
       "      <td>0.019738</td>\n",
       "      <td>2.313313</td>\n",
       "      <td>...</td>\n",
       "      <td>0.003470</td>\n",
       "      <td>0.007273</td>\n",
       "      <td>0.005244</td>\n",
       "      <td>0.002338</td>\n",
       "      <td>0.000121</td>\n",
       "      <td>0.001128</td>\n",
       "      <td>3.579897</td>\n",
       "      <td>1.019738</td>\n",
       "      <td>2.537010</td>\n",
       "      <td>3.234094</td>\n",
       "    </tr>\n",
       "    <tr>\n",
       "      <th>2</th>\n",
       "      <td>1.861332</td>\n",
       "      <td>1.963843</td>\n",
       "      <td>2.090216</td>\n",
       "      <td>4.011479</td>\n",
       "      <td>2.296843</td>\n",
       "      <td>4.446836</td>\n",
       "      <td>3.962881</td>\n",
       "      <td>3.043150</td>\n",
       "      <td>0.166782</td>\n",
       "      <td>2.357744</td>\n",
       "      <td>...</td>\n",
       "      <td>0.004984</td>\n",
       "      <td>0.005220</td>\n",
       "      <td>0.006844</td>\n",
       "      <td>0.004583</td>\n",
       "      <td>0.012023</td>\n",
       "      <td>-0.000309</td>\n",
       "      <td>5.683690</td>\n",
       "      <td>1.166782</td>\n",
       "      <td>2.541304</td>\n",
       "      <td>3.208754</td>\n",
       "    </tr>\n",
       "    <tr>\n",
       "      <th>3</th>\n",
       "      <td>1.857311</td>\n",
       "      <td>0.963381</td>\n",
       "      <td>3.108927</td>\n",
       "      <td>4.013754</td>\n",
       "      <td>2.117221</td>\n",
       "      <td>3.795355</td>\n",
       "      <td>4.071110</td>\n",
       "      <td>2.170307</td>\n",
       "      <td>0.357341</td>\n",
       "      <td>2.227768</td>\n",
       "      <td>...</td>\n",
       "      <td>0.009736</td>\n",
       "      <td>0.012814</td>\n",
       "      <td>0.005659</td>\n",
       "      <td>0.009643</td>\n",
       "      <td>0.001813</td>\n",
       "      <td>0.000503</td>\n",
       "      <td>5.707885</td>\n",
       "      <td>1.357341</td>\n",
       "      <td>2.485229</td>\n",
       "      <td>3.279485</td>\n",
       "    </tr>\n",
       "    <tr>\n",
       "      <th>4</th>\n",
       "      <td>1.928481</td>\n",
       "      <td>0.973333</td>\n",
       "      <td>1.879450</td>\n",
       "      <td>4.410397</td>\n",
       "      <td>1.971855</td>\n",
       "      <td>3.567764</td>\n",
       "      <td>3.835355</td>\n",
       "      <td>3.607071</td>\n",
       "      <td>0.096298</td>\n",
       "      <td>2.366213</td>\n",
       "      <td>...</td>\n",
       "      <td>0.021036</td>\n",
       "      <td>0.063734</td>\n",
       "      <td>0.096202</td>\n",
       "      <td>0.085677</td>\n",
       "      <td>0.076916</td>\n",
       "      <td>0.002957</td>\n",
       "      <td>5.775639</td>\n",
       "      <td>1.096298</td>\n",
       "      <td>4.396416</td>\n",
       "      <td>1.981771</td>\n",
       "    </tr>\n",
       "    <tr>\n",
       "      <th>5</th>\n",
       "      <td>3.251699</td>\n",
       "      <td>1.057032</td>\n",
       "      <td>3.289398</td>\n",
       "      <td>1.909970</td>\n",
       "      <td>4.273067</td>\n",
       "      <td>1.552024</td>\n",
       "      <td>1.709144</td>\n",
       "      <td>3.580381</td>\n",
       "      <td>0.099269</td>\n",
       "      <td>2.354444</td>\n",
       "      <td>...</td>\n",
       "      <td>0.047484</td>\n",
       "      <td>0.031367</td>\n",
       "      <td>0.070007</td>\n",
       "      <td>0.064304</td>\n",
       "      <td>0.075996</td>\n",
       "      <td>0.014857</td>\n",
       "      <td>3.533875</td>\n",
       "      <td>1.099269</td>\n",
       "      <td>4.240934</td>\n",
       "      <td>2.384449</td>\n",
       "    </tr>\n",
       "    <tr>\n",
       "      <th>6</th>\n",
       "      <td>3.551882</td>\n",
       "      <td>1.958820</td>\n",
       "      <td>2.576506</td>\n",
       "      <td>1.828229</td>\n",
       "      <td>4.304214</td>\n",
       "      <td>2.108746</td>\n",
       "      <td>1.701929</td>\n",
       "      <td>4.201427</td>\n",
       "      <td>0.072615</td>\n",
       "      <td>2.084186</td>\n",
       "      <td>...</td>\n",
       "      <td>0.066382</td>\n",
       "      <td>0.039855</td>\n",
       "      <td>0.044634</td>\n",
       "      <td>0.036853</td>\n",
       "      <td>0.053087</td>\n",
       "      <td>0.036034</td>\n",
       "      <td>3.402336</td>\n",
       "      <td>1.072615</td>\n",
       "      <td>4.253775</td>\n",
       "      <td>2.717093</td>\n",
       "    </tr>\n",
       "    <tr>\n",
       "      <th>7</th>\n",
       "      <td>3.558120</td>\n",
       "      <td>1.922700</td>\n",
       "      <td>3.750366</td>\n",
       "      <td>1.611074</td>\n",
       "      <td>4.295194</td>\n",
       "      <td>2.671390</td>\n",
       "      <td>1.744694</td>\n",
       "      <td>3.038920</td>\n",
       "      <td>0.038195</td>\n",
       "      <td>2.050258</td>\n",
       "      <td>...</td>\n",
       "      <td>0.001435</td>\n",
       "      <td>0.011082</td>\n",
       "      <td>0.000521</td>\n",
       "      <td>0.007010</td>\n",
       "      <td>0.001823</td>\n",
       "      <td>0.005815</td>\n",
       "      <td>3.415423</td>\n",
       "      <td>1.038195</td>\n",
       "      <td>2.616509</td>\n",
       "      <td>3.257304</td>\n",
       "    </tr>\n",
       "    <tr>\n",
       "      <th>8</th>\n",
       "      <td>1.804859</td>\n",
       "      <td>1.981186</td>\n",
       "      <td>1.116713</td>\n",
       "      <td>4.417150</td>\n",
       "      <td>2.224189</td>\n",
       "      <td>4.315232</td>\n",
       "      <td>3.776587</td>\n",
       "      <td>4.326701</td>\n",
       "      <td>0.041469</td>\n",
       "      <td>2.345175</td>\n",
       "      <td>...</td>\n",
       "      <td>0.025043</td>\n",
       "      <td>0.063845</td>\n",
       "      <td>0.080968</td>\n",
       "      <td>0.068684</td>\n",
       "      <td>0.086190</td>\n",
       "      <td>0.004354</td>\n",
       "      <td>5.725761</td>\n",
       "      <td>1.041469</td>\n",
       "      <td>4.326886</td>\n",
       "      <td>2.057908</td>\n",
       "    </tr>\n",
       "    <tr>\n",
       "      <th>9</th>\n",
       "      <td>2.562999</td>\n",
       "      <td>1.543792</td>\n",
       "      <td>4.094706</td>\n",
       "      <td>3.151832</td>\n",
       "      <td>2.549509</td>\n",
       "      <td>3.370297</td>\n",
       "      <td>3.900871</td>\n",
       "      <td>0.736120</td>\n",
       "      <td>0.358522</td>\n",
       "      <td>2.185583</td>\n",
       "      <td>...</td>\n",
       "      <td>0.003843</td>\n",
       "      <td>0.001531</td>\n",
       "      <td>-0.002909</td>\n",
       "      <td>0.002862</td>\n",
       "      <td>-0.000730</td>\n",
       "      <td>0.004519</td>\n",
       "      <td>5.381605</td>\n",
       "      <td>1.358522</td>\n",
       "      <td>2.214084</td>\n",
       "      <td>3.074387</td>\n",
       "    </tr>\n",
       "  </tbody>\n",
       "</table>\n",
       "<p>10 rows × 175 columns</p>\n",
       "</div>"
      ],
      "text/plain": [
       "   ALTERSKATEGORIE_GROB  ANREDE_KZ  FINANZ_MINIMALIST  FINANZ_SPARER  \\\n",
       "0              3.366457   1.493546           4.530389       1.582840   \n",
       "1              3.274828   1.109884           4.504057       1.725976   \n",
       "2              1.861332   1.963843           2.090216       4.011479   \n",
       "3              1.857311   0.963381           3.108927       4.013754   \n",
       "4              1.928481   0.973333           1.879450       4.410397   \n",
       "5              3.251699   1.057032           3.289398       1.909970   \n",
       "6              3.551882   1.958820           2.576506       1.828229   \n",
       "7              3.558120   1.922700           3.750366       1.611074   \n",
       "8              1.804859   1.981186           1.116713       4.417150   \n",
       "9              2.562999   1.543792           4.094706       3.151832   \n",
       "\n",
       "   FINANZ_VORSORGER  FINANZ_ANLEGER  FINANZ_UNAUFFAELLIGER  FINANZ_HAUSBAUER  \\\n",
       "0          4.293299        1.749908               2.061209          2.201430   \n",
       "1          4.264812        2.260088               1.755494          2.284091   \n",
       "2          2.296843        4.446836               3.962881          3.043150   \n",
       "3          2.117221        3.795355               4.071110          2.170307   \n",
       "4          1.971855        3.567764               3.835355          3.607071   \n",
       "5          4.273067        1.552024               1.709144          3.580381   \n",
       "6          4.304214        2.108746               1.701929          4.201427   \n",
       "7          4.295194        2.671390               1.744694          3.038920   \n",
       "8          2.224189        4.315232               3.776587          4.326701   \n",
       "9          2.549509        3.370297               3.900871          0.736120   \n",
       "\n",
       "   GREEN_AVANTGARDE  HEALTH_TYP       ...         CAMEO_DEU_2015_9A  \\\n",
       "0          0.998740    2.078279       ...                  0.005637   \n",
       "1          0.019738    2.313313       ...                  0.003470   \n",
       "2          0.166782    2.357744       ...                  0.004984   \n",
       "3          0.357341    2.227768       ...                  0.009736   \n",
       "4          0.096298    2.366213       ...                  0.021036   \n",
       "5          0.099269    2.354444       ...                  0.047484   \n",
       "6          0.072615    2.084186       ...                  0.066382   \n",
       "7          0.038195    2.050258       ...                  0.001435   \n",
       "8          0.041469    2.345175       ...                  0.025043   \n",
       "9          0.358522    2.185583       ...                  0.003843   \n",
       "\n",
       "   CAMEO_DEU_2015_9B  CAMEO_DEU_2015_9C  CAMEO_DEU_2015_9D  CAMEO_DEU_2015_9E  \\\n",
       "0           0.003095           0.004479           0.004934           0.007367   \n",
       "1           0.007273           0.005244           0.002338           0.000121   \n",
       "2           0.005220           0.006844           0.004583           0.012023   \n",
       "3           0.012814           0.005659           0.009643           0.001813   \n",
       "4           0.063734           0.096202           0.085677           0.076916   \n",
       "5           0.031367           0.070007           0.064304           0.075996   \n",
       "6           0.039855           0.044634           0.036853           0.053087   \n",
       "7           0.011082           0.000521           0.007010           0.001823   \n",
       "8           0.063845           0.080968           0.068684           0.086190   \n",
       "9           0.001531          -0.002909           0.002862          -0.000730   \n",
       "\n",
       "     DECADE  MOVEMENT    WEALTH  LIFE_STAGE  GEBAEUDETYP_5.0  \n",
       "0 -0.002058  3.515662  1.998740    2.006111         3.656974  \n",
       "1  0.001128  3.579897  1.019738    2.537010         3.234094  \n",
       "2 -0.000309  5.683690  1.166782    2.541304         3.208754  \n",
       "3  0.000503  5.707885  1.357341    2.485229         3.279485  \n",
       "4  0.002957  5.775639  1.096298    4.396416         1.981771  \n",
       "5  0.014857  3.533875  1.099269    4.240934         2.384449  \n",
       "6  0.036034  3.402336  1.072615    4.253775         2.717093  \n",
       "7  0.005815  3.415423  1.038195    2.616509         3.257304  \n",
       "8  0.004354  5.725761  1.041469    4.326886         2.057908  \n",
       "9  0.004519  5.381605  1.358522    2.214084         3.074387  \n",
       "\n",
       "[10 rows x 175 columns]"
      ]
     },
     "execution_count": 74,
     "metadata": {},
     "output_type": "execute_result"
    }
   ],
   "source": [
    "cluster_specs = pd.DataFrame(scaler.inverse_transform(pca_n.inverse_transform(model.cluster_centers_)), columns=customers_processed.columns)\n",
    "cluster_specs"
   ]
  },
  {
   "cell_type": "code",
   "execution_count": 76,
   "metadata": {},
   "outputs": [],
   "source": [
    "# HH_EINKOMMEN_SCORE: Estimated household net income\n",
    "# MOBI_REGIO: Movement patterns\n",
    "# FINANZ_MINIMALIST: low financial interest\n",
    "# ALTERSKATEGORIE_GROB: Estimated age based on given name analysis\n",
    "# ZABEOTYP: Energy consumption typology, fair supplied\n",
    "# SEMIO_REL: religious perconality\n",
    "# SEMIO_VERT: dreamful personality\n",
    "# SEMIO_KAEM: combative attitude personality\n",
    "# ANREDE_KZ: Gender, 1_male, 2_female\n",
    "\n",
    "feature2u = ['HH_EINKOMMEN_SCORE','MOBI_REGIO','FINANZ_MINIMALIST','ALTERSKATEGORIE_GROB',\n",
    "               'ZABEOTYP_3','SEMIO_REL','SEMIO_VERT','SEMIO_KAEM','ANREDE_KZ']\n",
    "import math              \n",
    "def plot_cluster_demographics(k, data_pca, data_pred, feature2u):\n",
    "    feat_K = scaler.inverse_transform(pca_n.inverse_transform(data_pca[data_pred == k]))\n",
    "\n",
    "    feat_K = pd.DataFrame(np.round(feat_K), columns = customers_processed.columns)\n",
    "    \n",
    "    fig, axs = plt.subplots(math.ceil(len(feature2u)/3),3, figsize=(18,8))\n",
    "    fig.set_figheight(13)\n",
    "    for i in list(range(len(feature2u))):\n",
    "        sns.countplot(feat_K[feature2u[i]], ax = axs[i//3,i%3], color='c')\n",
    "    return feat_K "
   ]
  },
  {
   "cell_type": "code",
   "execution_count": 77,
   "metadata": {
    "scrolled": true
   },
   "outputs": [
    {
     "data": {
      "image/png": "[encoded data removed]",
      "text/plain": [
       "<matplotlib.figure.Figure at 0x7fc6935c9550>"
      ]
     },
     "metadata": {
      "needs_background": "light"
     },
     "output_type": "display_data"
    }
   ],
   "source": [
    "# check cluster 0, a overrepresented cluster in customers\n",
    "k = 0\n",
    "feat_K = plot_cluster_demographics(k, data_pca, data_pred, feature2u)"
   ]
  },
  {
   "cell_type": "code",
   "execution_count": 78,
   "metadata": {
    "scrolled": false
   },
   "outputs": [
    {
     "data": {
      "image/png": "[encoded data removed]",
      "text/plain": [
       "<matplotlib.figure.Figure at 0x7fc692de49b0>"
      ]
     },
     "metadata": {
      "needs_background": "light"
     },
     "output_type": "display_data"
    }
   ],
   "source": [
    "# check cluster 8, a underrepresented cluster in customers\n",
    "k = 8\n",
    "feat_K = plot_cluster_demographics(k, data_pca, data_pred, feature2u)"
   ]
  },
  {
   "cell_type": "code",
   "execution_count": 80,
   "metadata": {},
   "outputs": [
    {
     "data": {
      "image/png": "[encoded data removed]",
      "text/plain": [
       "<matplotlib.figure.Figure at 0x7fc692b75fd0>"
      ]
     },
     "metadata": {
      "needs_background": "light"
     },
     "output_type": "display_data"
    }
   ],
   "source": [
    "# check cluster 3, a underrepresented cluster in customers\n",
    "k = 3\n",
    "feat_K = plot_cluster_demographics(k, data_pca, data_pred, feature2u)"
   ]
  },
  {
   "cell_type": "markdown",
   "metadata": {},
   "source": [
    "### Discussion 3.3: Compare Customer Data to Demographics Data\n",
    "\n",
    "We observed that cluster 0, 1 and 6 are overrepresented in the customer data compared to the general population. Cluster 2, 3, 4 and 8 are underrepresented in the customer data compared to general population. \n",
    "\n",
    "After checking the some features of cluster 4 and 0, we found that people in Cluster 0 has the following feature: high-income, with very low movement, high financial interest, most of them above 46 years old, prefer fair supplied enegry, average to high affinity of religious, bipolar distribution of dreamfulness and combative attitude, equally distributed gender. <br>\n",
    "\n",
    "and Cluster 8 has the following feature: low income, high movement, low financial interest, relatively younger (below 45), low affinity of religious, very dreamful, low combative attitude, female. <br>\n",
    "\n",
    "I also check another underrepresented cluster Nr. 3. Compared to cluster 8, people in this cluster are male, not dreamful, very combative attitude."
   ]
  },
  {
   "cell_type": "code",
   "execution_count": null,
   "metadata": {},
   "outputs": [],
   "source": []
  }
 ],
 "metadata": {
  "kernelspec": {
   "display_name": "Python 3",
   "language": "python",
   "name": "python3"
  },
  "language_info": {
   "codemirror_mode": {
    "name": "ipython",
    "version": 3
   },
   "file_extension": ".py",
   "mimetype": "text/x-python",
   "name": "python",
   "nbconvert_exporter": "python",
   "pygments_lexer": "ipython3",
   "version": "3.7.7"
  }
 },
 "nbformat": 4,
 "nbformat_minor": 2
}
